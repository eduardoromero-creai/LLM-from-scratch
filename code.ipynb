{
 "cells": [
  {
   "cell_type": "markdown",
   "id": "2574712d",
   "metadata": {
    "papermill": {
     "duration": 0.027751,
     "end_time": "2025-03-19T01:09:27.130338",
     "exception": false,
     "start_time": "2025-03-19T01:09:27.102587",
     "status": "completed"
    },
    "tags": []
   },
   "source": [
    "This notebook contains notes and code taken from the book Build a Large Language Model (From Scratch) written by Sebastian Raschka.\n",
    "\n",
    "I include notes comming directly from book and information from other sources.\n",
    "\n",
    "I start my notes from Chapter 2 since the first one has concepts and no code.\n",
    "\n",
    "# Data loading\n",
    "\n",
    "Retrieving a text from original github repo."
   ]
  },
  {
   "cell_type": "code",
   "execution_count": 1,
   "id": "eea94eaf",
   "metadata": {
    "_cell_guid": "b1076dfc-b9ad-4769-8c92-a6c4dae69d19",
    "_uuid": "8f2839f25d086af736a60e9eeb907d3b93b6e0e5",
    "execution": {
     "iopub.execute_input": "2025-03-19T01:09:27.183788Z",
     "iopub.status.busy": "2025-03-19T01:09:27.183361Z",
     "iopub.status.idle": "2025-03-19T01:09:27.354635Z",
     "shell.execute_reply": "2025-03-19T01:09:27.353420Z"
    },
    "papermill": {
     "duration": 0.200046,
     "end_time": "2025-03-19T01:09:27.356622",
     "exception": false,
     "start_time": "2025-03-19T01:09:27.156576",
     "status": "completed"
    },
    "tags": []
   },
   "outputs": [
    {
     "data": {
      "text/plain": [
       "('the-verdict.txt', <http.client.HTTPMessage at 0x7b58b28d8700>)"
      ]
     },
     "execution_count": 1,
     "metadata": {},
     "output_type": "execute_result"
    }
   ],
   "source": [
    "import urllib.request\n",
    "\n",
    "url = 'https://raw.githubusercontent.com/rasbt/LLMs-from-scratch/main/ch02/01_main-chapter-code/the-verdict.txt'\n",
    "file_path = 'the-verdict.txt'\n",
    "urllib.request.urlretrieve(url, file_path)"
   ]
  },
  {
   "cell_type": "code",
   "execution_count": 2,
   "id": "d4df9cf6",
   "metadata": {
    "execution": {
     "iopub.execute_input": "2025-03-19T01:09:27.410654Z",
     "iopub.status.busy": "2025-03-19T01:09:27.410292Z",
     "iopub.status.idle": "2025-03-19T01:09:27.417372Z",
     "shell.execute_reply": "2025-03-19T01:09:27.415897Z"
    },
    "papermill": {
     "duration": 0.036871,
     "end_time": "2025-03-19T01:09:27.419560",
     "exception": false,
     "start_time": "2025-03-19T01:09:27.382689",
     "status": "completed"
    },
    "tags": []
   },
   "outputs": [
    {
     "name": "stdout",
     "output_type": "stream",
     "text": [
      "Total number of character:  20479\n",
      "I HAD always thought Jack Gisburn rather a cheap genius--though a good fellow enough--so it was no \n"
     ]
    }
   ],
   "source": [
    "with open(file_path, 'r', encoding='utf-8') as f:\n",
    "    raw_text = f.read()\n",
    "\n",
    "print(\"Total number of character: \", len(raw_text))\n",
    "print(raw_text[:99])"
   ]
  },
  {
   "cell_type": "markdown",
   "id": "decd804e",
   "metadata": {
    "papermill": {
     "duration": 0.025353,
     "end_time": "2025-03-19T01:09:27.471162",
     "exception": false,
     "start_time": "2025-03-19T01:09:27.445809",
     "status": "completed"
    },
    "tags": []
   },
   "source": [
    "# Tokenization\n",
    "\n",
    "Using `re` library to tokenize the text. The regular expression is based on splitting it by `,`, `.` and whitespace. However, the first 100 characters shown in the previous steps had double dash and, supposing it also contains other special characters like question marks and quotation marks, the regular expression suffer a modification to handle them."
   ]
  },
  {
   "cell_type": "code",
   "execution_count": 3,
   "id": "bd378310",
   "metadata": {
    "execution": {
     "iopub.execute_input": "2025-03-19T01:09:27.525407Z",
     "iopub.status.busy": "2025-03-19T01:09:27.524998Z",
     "iopub.status.idle": "2025-03-19T01:09:27.532540Z",
     "shell.execute_reply": "2025-03-19T01:09:27.531208Z"
    },
    "papermill": {
     "duration": 0.037627,
     "end_time": "2025-03-19T01:09:27.534762",
     "exception": false,
     "start_time": "2025-03-19T01:09:27.497135",
     "status": "completed"
    },
    "tags": []
   },
   "outputs": [
    {
     "name": "stdout",
     "output_type": "stream",
     "text": [
      "Raw tokenization\n",
      "['Hello', ',', '', ' ', 'world', '.', '', ' ', 'This', ',', '', ' ', 'is', ' ', 'a', ' ', 'test', '.', '']\n",
      "Tokenization removing whitespaces\n",
      "['Hello', ',', 'world', '.', 'This', ',', 'is', 'a', 'test', '.']\n"
     ]
    }
   ],
   "source": [
    "import re\n",
    "\n",
    "text = \"Hello, world. This, is a test.\"\n",
    "result = re.split(r\"([,.]|\\s)\", text)\n",
    "print(\"Raw tokenization\")\n",
    "print(result)\n",
    "\n",
    "result = [item for item in result if item.strip()]\n",
    "print(\"Tokenization removing whitespaces\")\n",
    "print(result)"
   ]
  },
  {
   "cell_type": "code",
   "execution_count": 4,
   "id": "90a0c10a",
   "metadata": {
    "execution": {
     "iopub.execute_input": "2025-03-19T01:09:27.588398Z",
     "iopub.status.busy": "2025-03-19T01:09:27.587977Z",
     "iopub.status.idle": "2025-03-19T01:09:27.593804Z",
     "shell.execute_reply": "2025-03-19T01:09:27.592526Z"
    },
    "papermill": {
     "duration": 0.034709,
     "end_time": "2025-03-19T01:09:27.595714",
     "exception": false,
     "start_time": "2025-03-19T01:09:27.561005",
     "status": "completed"
    },
    "tags": []
   },
   "outputs": [
    {
     "name": "stdout",
     "output_type": "stream",
     "text": [
      "['Hello', ',', 'world', '.', 'Is', 'this', '--', 'a', 'test', '?']\n"
     ]
    }
   ],
   "source": [
    "text = 'Hello, world. Is this--  a test?'\n",
    "result = re.split(r'([,.:;?_!\"()\\']|--|\\s)', text)\n",
    "result = [item.strip() for item in result if item.strip()]\n",
    "print(result)"
   ]
  },
  {
   "cell_type": "markdown",
   "id": "3e16e12d",
   "metadata": {
    "papermill": {
     "duration": 0.025381,
     "end_time": "2025-03-19T01:09:27.647041",
     "exception": false,
     "start_time": "2025-03-19T01:09:27.621660",
     "status": "completed"
    },
    "tags": []
   },
   "source": [
    "## Handling the actual text\n",
    "\n",
    "Once refined the tokenization method, the next step is tokenize the actual text by using the expression previously defined.\n",
    "\n",
    "At the first block it's easy to see that there are only 4,690 tokens and at the second block the first 31 tokens reveal that the tokenization process works well."
   ]
  },
  {
   "cell_type": "code",
   "execution_count": 5,
   "id": "2a973cad",
   "metadata": {
    "execution": {
     "iopub.execute_input": "2025-03-19T01:09:27.702266Z",
     "iopub.status.busy": "2025-03-19T01:09:27.701863Z",
     "iopub.status.idle": "2025-03-19T01:09:27.711407Z",
     "shell.execute_reply": "2025-03-19T01:09:27.709930Z"
    },
    "papermill": {
     "duration": 0.039313,
     "end_time": "2025-03-19T01:09:27.713381",
     "exception": false,
     "start_time": "2025-03-19T01:09:27.674068",
     "status": "completed"
    },
    "tags": []
   },
   "outputs": [
    {
     "name": "stdout",
     "output_type": "stream",
     "text": [
      "4690\n"
     ]
    }
   ],
   "source": [
    "preprocessed = re.split(r'([,.:;?_!\"()\\']|--|\\s)', raw_text)\n",
    "preprocessed = [item.strip() for item in preprocessed if item.strip()]\n",
    "print(len(preprocessed))"
   ]
  },
  {
   "cell_type": "code",
   "execution_count": 6,
   "id": "dde69986",
   "metadata": {
    "execution": {
     "iopub.execute_input": "2025-03-19T01:09:27.767354Z",
     "iopub.status.busy": "2025-03-19T01:09:27.766950Z",
     "iopub.status.idle": "2025-03-19T01:09:27.772861Z",
     "shell.execute_reply": "2025-03-19T01:09:27.771301Z"
    },
    "papermill": {
     "duration": 0.035277,
     "end_time": "2025-03-19T01:09:27.774687",
     "exception": false,
     "start_time": "2025-03-19T01:09:27.739410",
     "status": "completed"
    },
    "tags": []
   },
   "outputs": [
    {
     "name": "stdout",
     "output_type": "stream",
     "text": [
      "['I', 'HAD', 'always', 'thought', 'Jack', 'Gisburn', 'rather', 'a', 'cheap', 'genius', '--', 'though', 'a', 'good', 'fellow', 'enough', '--', 'so', 'it', 'was', 'no', 'great', 'surprise', 'to', 'me', 'to', 'hear', 'that', ',', 'in']\n"
     ]
    }
   ],
   "source": [
    "print(preprocessed[:30])"
   ]
  },
  {
   "cell_type": "markdown",
   "id": "37c9ba11",
   "metadata": {
    "papermill": {
     "duration": 0.02586,
     "end_time": "2025-03-19T01:09:27.826508",
     "exception": false,
     "start_time": "2025-03-19T01:09:27.800648",
     "status": "completed"
    },
    "tags": []
   },
   "source": [
    "## Tokens into IDs\n",
    "\n",
    "This steps converts the text into an integer representation assigning an integer to each token by building a vocabulary. The vocabulary is a map where each unique word and special character to a unique integer."
   ]
  },
  {
   "cell_type": "code",
   "execution_count": 7,
   "id": "c0ace31f",
   "metadata": {
    "execution": {
     "iopub.execute_input": "2025-03-19T01:09:27.881363Z",
     "iopub.status.busy": "2025-03-19T01:09:27.880955Z",
     "iopub.status.idle": "2025-03-19T01:09:27.887964Z",
     "shell.execute_reply": "2025-03-19T01:09:27.886473Z"
    },
    "papermill": {
     "duration": 0.037222,
     "end_time": "2025-03-19T01:09:27.890282",
     "exception": false,
     "start_time": "2025-03-19T01:09:27.853060",
     "status": "completed"
    },
    "tags": []
   },
   "outputs": [
    {
     "name": "stdout",
     "output_type": "stream",
     "text": [
      "1130\n"
     ]
    }
   ],
   "source": [
    "all_words = sorted(set(preprocessed))\n",
    "vocab_size = len(all_words)\n",
    "print(vocab_size)"
   ]
  },
  {
   "cell_type": "code",
   "execution_count": 8,
   "id": "aea3fd59",
   "metadata": {
    "execution": {
     "iopub.execute_input": "2025-03-19T01:09:27.943302Z",
     "iopub.status.busy": "2025-03-19T01:09:27.942788Z",
     "iopub.status.idle": "2025-03-19T01:09:27.959933Z",
     "shell.execute_reply": "2025-03-19T01:09:27.958674Z"
    },
    "papermill": {
     "duration": 0.046402,
     "end_time": "2025-03-19T01:09:27.962323",
     "exception": false,
     "start_time": "2025-03-19T01:09:27.915921",
     "status": "completed"
    },
    "tags": []
   },
   "outputs": [
    {
     "name": "stdout",
     "output_type": "stream",
     "text": [
      "('!', 0)\n",
      "('\"', 1)\n",
      "(\"'\", 2)\n",
      "('(', 3)\n",
      "(')', 4)\n",
      "(',', 5)\n",
      "('--', 6)\n",
      "('.', 7)\n",
      "(':', 8)\n",
      "(';', 9)\n",
      "('?', 10)\n",
      "('A', 11)\n",
      "('Ah', 12)\n",
      "('Among', 13)\n",
      "('And', 14)\n",
      "('Are', 15)\n",
      "('Arrt', 16)\n",
      "('As', 17)\n",
      "('At', 18)\n",
      "('Be', 19)\n",
      "('Begin', 20)\n",
      "('Burlington', 21)\n",
      "('But', 22)\n",
      "('By', 23)\n",
      "('Carlo', 24)\n",
      "('Chicago', 25)\n",
      "('Claude', 26)\n",
      "('Come', 27)\n",
      "('Croft', 28)\n",
      "('Destroyed', 29)\n",
      "('Devonshire', 30)\n",
      "('Don', 31)\n",
      "('Dubarry', 32)\n",
      "('Emperors', 33)\n",
      "('Florence', 34)\n",
      "('For', 35)\n",
      "('Gallery', 36)\n",
      "('Gideon', 37)\n",
      "('Gisburn', 38)\n",
      "('Gisburns', 39)\n",
      "('Grafton', 40)\n",
      "('Greek', 41)\n",
      "('Grindle', 42)\n",
      "('Grindles', 43)\n",
      "('HAD', 44)\n",
      "('Had', 45)\n",
      "('Hang', 46)\n",
      "('Has', 47)\n",
      "('He', 48)\n",
      "('Her', 49)\n",
      "('Hermia', 50)\n"
     ]
    }
   ],
   "source": [
    "vocab = {token: integer for integer, token in enumerate(all_words)}\n",
    "for i, item in enumerate(vocab.items()):\n",
    "    print(item)\n",
    "    if i >= 50:\n",
    "        break"
   ]
  },
  {
   "cell_type": "markdown",
   "id": "a0a68109",
   "metadata": {
    "papermill": {
     "duration": 0.026317,
     "end_time": "2025-03-19T01:09:28.014561",
     "exception": false,
     "start_time": "2025-03-19T01:09:27.988244",
     "status": "completed"
    },
    "tags": []
   },
   "source": [
    "## Tokenizer\n",
    "\n",
    "To tokenizer in a simplier form, it's create a `SimpleTokenizerV1` class. It takes a vocabulary and create an inverse one to correctly maps the IDs into tokens.\n",
    "\n",
    "The motivation behind it is that once the LLM is trained with the IDs, the model will return integer IDs, not text. To interpretate the LLM resuls the class implements a decode method that will map the IDs into strings.\n",
    "\n",
    ">Note: The tokenizer works well on known words (i.e. words inside the vocabulary). If a new word is presetend to the tokenizer, it will produce an error since there new word has no ID associated."
   ]
  },
  {
   "cell_type": "code",
   "execution_count": 9,
   "id": "df9c0bb5",
   "metadata": {
    "execution": {
     "iopub.execute_input": "2025-03-19T01:09:28.066932Z",
     "iopub.status.busy": "2025-03-19T01:09:28.066600Z",
     "iopub.status.idle": "2025-03-19T01:09:28.073663Z",
     "shell.execute_reply": "2025-03-19T01:09:28.072499Z"
    },
    "papermill": {
     "duration": 0.035798,
     "end_time": "2025-03-19T01:09:28.075641",
     "exception": false,
     "start_time": "2025-03-19T01:09:28.039843",
     "status": "completed"
    },
    "tags": []
   },
   "outputs": [],
   "source": [
    "class SimpleTokenizerV1:\n",
    "\n",
    "    def __init__(self, vocab):\n",
    "        # stores the vocabulary\n",
    "        self.str_to_int = vocab\n",
    "        # Inverse vocabulary that maps token IDs back to the original text tokens\n",
    "        self.int_to_str = {i:s for s,i in vocab.items()}\n",
    "\n",
    "    def encode(self, text):\n",
    "        # Processes input text into token IDs\n",
    "        preprocessed = re.split(r'([,.:;?_!\"()\\']|--|\\s)', text)\n",
    "        preprocessed = [item.strip() for item in preprocessed if item.strip()]\n",
    "        ids = [self.str_to_int[s] for s in preprocessed]\n",
    "        return ids\n",
    "\n",
    "    def decode(self, ids):\n",
    "        # Converts token IDs back into text\n",
    "        text = \" \".join([self.int_to_str[i] for i in ids])\n",
    "        # Removes spaces before the specified punctuation\n",
    "        text = re.sub(r'\\s+([,.?!\"()\\'])', r'\\1', text)\n",
    "        return text"
   ]
  },
  {
   "cell_type": "code",
   "execution_count": 10,
   "id": "e852e33e",
   "metadata": {
    "execution": {
     "iopub.execute_input": "2025-03-19T01:09:28.131537Z",
     "iopub.status.busy": "2025-03-19T01:09:28.131189Z",
     "iopub.status.idle": "2025-03-19T01:09:28.136896Z",
     "shell.execute_reply": "2025-03-19T01:09:28.135743Z"
    },
    "papermill": {
     "duration": 0.035934,
     "end_time": "2025-03-19T01:09:28.139094",
     "exception": false,
     "start_time": "2025-03-19T01:09:28.103160",
     "status": "completed"
    },
    "tags": []
   },
   "outputs": [
    {
     "name": "stdout",
     "output_type": "stream",
     "text": [
      "[56, 2, 850, 988, 602, 533, 746, 5, 1126, 596, 5, 1, 67, 7, 38, 851, 1108, 754, 793, 7]\n"
     ]
    }
   ],
   "source": [
    "tokenizer = SimpleTokenizerV1(vocab)\n",
    "text = \"\"\"\n",
    "It's the last he painted, you know, \" Mrs. Gisburn said with pardonable pride.\n",
    "\"\"\"\n",
    "ids = tokenizer.encode(text)\n",
    "print(ids)"
   ]
  },
  {
   "cell_type": "code",
   "execution_count": 11,
   "id": "014e8baa",
   "metadata": {
    "execution": {
     "iopub.execute_input": "2025-03-19T01:09:28.191757Z",
     "iopub.status.busy": "2025-03-19T01:09:28.191322Z",
     "iopub.status.idle": "2025-03-19T01:09:28.197365Z",
     "shell.execute_reply": "2025-03-19T01:09:28.195806Z"
    },
    "papermill": {
     "duration": 0.034828,
     "end_time": "2025-03-19T01:09:28.199280",
     "exception": false,
     "start_time": "2025-03-19T01:09:28.164452",
     "status": "completed"
    },
    "tags": []
   },
   "outputs": [
    {
     "name": "stdout",
     "output_type": "stream",
     "text": [
      "It' s the last he painted, you know,\" Mrs. Gisburn said with pardonable pride.\n"
     ]
    }
   ],
   "source": [
    "print(tokenizer.decode(ids))"
   ]
  },
  {
   "cell_type": "markdown",
   "id": "f3fc48d2",
   "metadata": {
    "papermill": {
     "duration": 0.026157,
     "end_time": "2025-03-19T01:09:28.250694",
     "exception": false,
     "start_time": "2025-03-19T01:09:28.224537",
     "status": "completed"
    },
    "tags": []
   },
   "source": [
    "## Context tokens\n",
    "\n",
    "To improve the `SimpleTokenizerV1` it's time to introduce two new context tokens.\n",
    "\n",
    "1. `<|unk|>` this will be used when words that where not part of the training are introduced to the tokenizer.\n",
    "2. `<|endoftext|>` token that will be used to separate two unrelated text sources.\n",
    "\n",
    "As mentioned, the first one will be useful to represent unseen words. While the second one will help the LLM to understand that in fact multiple text sources are concatenated for training, they are unrelated."
   ]
  },
  {
   "cell_type": "code",
   "execution_count": 12,
   "id": "9ad5c3cd",
   "metadata": {
    "execution": {
     "iopub.execute_input": "2025-03-19T01:09:28.368816Z",
     "iopub.status.busy": "2025-03-19T01:09:28.368327Z",
     "iopub.status.idle": "2025-03-19T01:09:28.375449Z",
     "shell.execute_reply": "2025-03-19T01:09:28.374148Z"
    },
    "papermill": {
     "duration": 0.10191,
     "end_time": "2025-03-19T01:09:28.377573",
     "exception": false,
     "start_time": "2025-03-19T01:09:28.275663",
     "status": "completed"
    },
    "tags": []
   },
   "outputs": [
    {
     "name": "stdout",
     "output_type": "stream",
     "text": [
      "1132\n"
     ]
    }
   ],
   "source": [
    "all_tokens = sorted(list(set(preprocessed)))\n",
    "all_tokens.extend([\"<|endoftext|>\",\"<|unk|>\"])\n",
    "vocab = {token: integer for integer,token in enumerate(all_tokens)}\n",
    "\n",
    "print(len(vocab.items()))"
   ]
  },
  {
   "cell_type": "code",
   "execution_count": 13,
   "id": "ef67135d",
   "metadata": {
    "execution": {
     "iopub.execute_input": "2025-03-19T01:09:28.431887Z",
     "iopub.status.busy": "2025-03-19T01:09:28.431502Z",
     "iopub.status.idle": "2025-03-19T01:09:28.438438Z",
     "shell.execute_reply": "2025-03-19T01:09:28.436661Z"
    },
    "papermill": {
     "duration": 0.036711,
     "end_time": "2025-03-19T01:09:28.440656",
     "exception": false,
     "start_time": "2025-03-19T01:09:28.403945",
     "status": "completed"
    },
    "tags": []
   },
   "outputs": [
    {
     "name": "stdout",
     "output_type": "stream",
     "text": [
      "('younger', 1127)\n",
      "('your', 1128)\n",
      "('yourself', 1129)\n",
      "('<|endoftext|>', 1130)\n",
      "('<|unk|>', 1131)\n"
     ]
    }
   ],
   "source": [
    "for i, item in enumerate(list(vocab.items())[-5:]):\n",
    "    print(item)"
   ]
  },
  {
   "cell_type": "code",
   "execution_count": 14,
   "id": "e1f797b7",
   "metadata": {
    "execution": {
     "iopub.execute_input": "2025-03-19T01:09:28.496452Z",
     "iopub.status.busy": "2025-03-19T01:09:28.496089Z",
     "iopub.status.idle": "2025-03-19T01:09:28.503460Z",
     "shell.execute_reply": "2025-03-19T01:09:28.502151Z"
    },
    "papermill": {
     "duration": 0.037552,
     "end_time": "2025-03-19T01:09:28.505625",
     "exception": false,
     "start_time": "2025-03-19T01:09:28.468073",
     "status": "completed"
    },
    "tags": []
   },
   "outputs": [],
   "source": [
    "class SimpleTokenizerV2:\n",
    "\n",
    "    def __init__(self, vocab):\n",
    "        # stores the vocabulary\n",
    "        self.str_to_int = vocab\n",
    "        # Inverse vocabulary that maps token IDs back to the original text tokens\n",
    "        self.int_to_str = {i:s for s,i in vocab.items()}\n",
    "\n",
    "    def encode(self, text):\n",
    "        # Processes input text into token IDs\n",
    "        preprocessed = re.split(r'([,.:;?_!\"()\\']|--|\\s)', text)\n",
    "        preprocessed = [item.strip() for item in preprocessed if item.strip()]\n",
    "        # Replaces unkown words by <|unk|> tokens\n",
    "        preprocessed = [item if item in self.str_to_int else \"<|unk|>\" for item in preprocessed]\n",
    "        ids = [self.str_to_int[s] for s in preprocessed]\n",
    "        return ids\n",
    "\n",
    "    def decode(self, ids):\n",
    "        # Converts token IDs back into text\n",
    "        text = \" \".join([self.int_to_str[i] for i in ids])\n",
    "        # Removes spaces before the specified punctuation\n",
    "        text = re.sub(r'\\s+([,.?!\"()\\'])', r'\\1', text)\n",
    "        return text"
   ]
  },
  {
   "cell_type": "code",
   "execution_count": 15,
   "id": "aef34c4d",
   "metadata": {
    "execution": {
     "iopub.execute_input": "2025-03-19T01:09:28.559094Z",
     "iopub.status.busy": "2025-03-19T01:09:28.558622Z",
     "iopub.status.idle": "2025-03-19T01:09:28.564881Z",
     "shell.execute_reply": "2025-03-19T01:09:28.563431Z"
    },
    "papermill": {
     "duration": 0.035533,
     "end_time": "2025-03-19T01:09:28.566730",
     "exception": false,
     "start_time": "2025-03-19T01:09:28.531197",
     "status": "completed"
    },
    "tags": []
   },
   "outputs": [
    {
     "name": "stdout",
     "output_type": "stream",
     "text": [
      "Hello, do you like tea?<|endoftext|> In the sunlit terraces of the palace.\n"
     ]
    }
   ],
   "source": [
    "# In this example, Hello and palace are not part of the training dataset, therefore the tokenizer assign them the <|unk|> token\n",
    "\n",
    "text1 = \"Hello, do you like tea?\"\n",
    "text2 = \"In the sunlit terraces of the palace.\"\n",
    "text = \"<|endoftext|> \".join((text1, text2))\n",
    "print(text)"
   ]
  },
  {
   "cell_type": "code",
   "execution_count": 16,
   "id": "df0d44f1",
   "metadata": {
    "execution": {
     "iopub.execute_input": "2025-03-19T01:09:28.622845Z",
     "iopub.status.busy": "2025-03-19T01:09:28.622440Z",
     "iopub.status.idle": "2025-03-19T01:09:28.628358Z",
     "shell.execute_reply": "2025-03-19T01:09:28.627116Z"
    },
    "papermill": {
     "duration": 0.036357,
     "end_time": "2025-03-19T01:09:28.630547",
     "exception": false,
     "start_time": "2025-03-19T01:09:28.594190",
     "status": "completed"
    },
    "tags": []
   },
   "outputs": [
    {
     "name": "stdout",
     "output_type": "stream",
     "text": [
      "[1131, 5, 355, 1126, 628, 975, 10, 1130, 55, 988, 956, 984, 722, 988, 1131, 7]\n"
     ]
    }
   ],
   "source": [
    "tokenizer = SimpleTokenizerV2(vocab)\n",
    "print(tokenizer.encode(text))"
   ]
  },
  {
   "cell_type": "code",
   "execution_count": 17,
   "id": "1fadc92b",
   "metadata": {
    "execution": {
     "iopub.execute_input": "2025-03-19T01:09:28.685315Z",
     "iopub.status.busy": "2025-03-19T01:09:28.684863Z",
     "iopub.status.idle": "2025-03-19T01:09:28.690933Z",
     "shell.execute_reply": "2025-03-19T01:09:28.689655Z"
    },
    "papermill": {
     "duration": 0.035015,
     "end_time": "2025-03-19T01:09:28.692812",
     "exception": false,
     "start_time": "2025-03-19T01:09:28.657797",
     "status": "completed"
    },
    "tags": []
   },
   "outputs": [
    {
     "name": "stdout",
     "output_type": "stream",
     "text": [
      "<|unk|>, do you like tea? <|endoftext|> In the sunlit terraces of the <|unk|>.\n"
     ]
    }
   ],
   "source": [
    "print(tokenizer.decode(tokenizer.encode(text)))"
   ]
  },
  {
   "cell_type": "markdown",
   "id": "ec8239ae",
   "metadata": {
    "papermill": {
     "duration": 0.028307,
     "end_time": "2025-03-19T01:09:28.748937",
     "exception": false,
     "start_time": "2025-03-19T01:09:28.720630",
     "status": "completed"
    },
    "tags": []
   },
   "source": [
    "## Byte Pairing Encoding (BPE)\n",
    "\n",
    "BPE is a tokenizer that has several properties that outperforms classic tokenizers:\n",
    "\n",
    "1. It is reversible\n",
    "2. It works on arbitrary text\n",
    "3. It compress the text\n",
    "4. It attempts to let the model see common subwords\n",
    "\n",
    "The algorithm breaks down words that aren't in its predefined vocabulary into smaller subword units or even individual characters, enabling it to handle out-of-vocabulary words."
   ]
  },
  {
   "cell_type": "code",
   "execution_count": 18,
   "id": "54380d32",
   "metadata": {
    "execution": {
     "iopub.execute_input": "2025-03-19T01:09:28.804188Z",
     "iopub.status.busy": "2025-03-19T01:09:28.803824Z",
     "iopub.status.idle": "2025-03-19T01:09:30.579361Z",
     "shell.execute_reply": "2025-03-19T01:09:30.578254Z"
    },
    "papermill": {
     "duration": 1.805679,
     "end_time": "2025-03-19T01:09:30.581593",
     "exception": false,
     "start_time": "2025-03-19T01:09:28.775914",
     "status": "completed"
    },
    "tags": []
   },
   "outputs": [],
   "source": [
    "import tiktoken\n",
    "\n",
    "tokenizer = tiktoken.get_encoding('gpt2')"
   ]
  },
  {
   "cell_type": "code",
   "execution_count": 19,
   "id": "e4423cd0",
   "metadata": {
    "execution": {
     "iopub.execute_input": "2025-03-19T01:09:30.637143Z",
     "iopub.status.busy": "2025-03-19T01:09:30.636707Z",
     "iopub.status.idle": "2025-03-19T01:09:30.643079Z",
     "shell.execute_reply": "2025-03-19T01:09:30.641909Z"
    },
    "papermill": {
     "duration": 0.036055,
     "end_time": "2025-03-19T01:09:30.644903",
     "exception": false,
     "start_time": "2025-03-19T01:09:30.608848",
     "status": "completed"
    },
    "tags": []
   },
   "outputs": [
    {
     "name": "stdout",
     "output_type": "stream",
     "text": [
      "[15496, 11, 466, 345, 588, 8887, 30, 220, 50256, 554, 262, 4252, 18250, 8812, 2114, 286, 617, 2954, 593, 27271, 13]\n"
     ]
    }
   ],
   "source": [
    "text = \"Hello, do you like tea? <|endoftext|> In the sunlit terraces of someunkownPlace.\"\n",
    "\n",
    "integers = tokenizer.encode(text, allowed_special={\"<|endoftext|>\"})\n",
    "print(integers)"
   ]
  },
  {
   "cell_type": "code",
   "execution_count": 20,
   "id": "b04719da",
   "metadata": {
    "execution": {
     "iopub.execute_input": "2025-03-19T01:09:30.700975Z",
     "iopub.status.busy": "2025-03-19T01:09:30.700594Z",
     "iopub.status.idle": "2025-03-19T01:09:30.706235Z",
     "shell.execute_reply": "2025-03-19T01:09:30.705086Z"
    },
    "papermill": {
     "duration": 0.036384,
     "end_time": "2025-03-19T01:09:30.708314",
     "exception": false,
     "start_time": "2025-03-19T01:09:30.671930",
     "status": "completed"
    },
    "tags": []
   },
   "outputs": [
    {
     "name": "stdout",
     "output_type": "stream",
     "text": [
      "Hello, do you like tea? <|endoftext|> In the sunlit terraces of someunkownPlace.\n"
     ]
    }
   ],
   "source": [
    "string = tokenizer.decode(integers)\n",
    "print(string)"
   ]
  },
  {
   "cell_type": "markdown",
   "id": "0a3fd2d5",
   "metadata": {
    "papermill": {
     "duration": 0.025566,
     "end_time": "2025-03-19T01:09:30.761745",
     "exception": false,
     "start_time": "2025-03-19T01:09:30.736179",
     "status": "completed"
    },
    "tags": []
   },
   "source": [
    "### Exercise 2.1 Byte pair encoding of unkown words\n",
    "\n",
    "Trying BPE tokenizer from the tiktoken. I will call the encode method on the unknown words `Akwirw ier` and decode them one by one and all at once to see if the algorithm is capable of reconstruct the original input.\n",
    "\n",
    "> Result: As mentioned before, the BPE algorithm encode the words depending on how many times a set of letters or words have been repeted in the text. This provice the algorithm information about the relevance and connectedness of letters or words inside a text. Providing it with capabilities like encoding unkown words."
   ]
  },
  {
   "cell_type": "code",
   "execution_count": 21,
   "id": "53527820",
   "metadata": {
    "execution": {
     "iopub.execute_input": "2025-03-19T01:09:30.818466Z",
     "iopub.status.busy": "2025-03-19T01:09:30.818126Z",
     "iopub.status.idle": "2025-03-19T01:09:30.824453Z",
     "shell.execute_reply": "2025-03-19T01:09:30.822966Z"
    },
    "papermill": {
     "duration": 0.035999,
     "end_time": "2025-03-19T01:09:30.826640",
     "exception": false,
     "start_time": "2025-03-19T01:09:30.790641",
     "status": "completed"
    },
    "tags": []
   },
   "outputs": [
    {
     "name": "stdout",
     "output_type": "stream",
     "text": [
      "[33901, 86, 343, 86, 220, 959]\n"
     ]
    }
   ],
   "source": [
    "# Encoding the unkown word\n",
    "unk_word_int = tokenizer.encode('Akwirw ier')\n",
    "print(unk_word_int)"
   ]
  },
  {
   "cell_type": "code",
   "execution_count": 22,
   "id": "2a39c622",
   "metadata": {
    "execution": {
     "iopub.execute_input": "2025-03-19T01:09:30.882909Z",
     "iopub.status.busy": "2025-03-19T01:09:30.882445Z",
     "iopub.status.idle": "2025-03-19T01:09:30.890696Z",
     "shell.execute_reply": "2025-03-19T01:09:30.889161Z"
    },
    "papermill": {
     "duration": 0.038317,
     "end_time": "2025-03-19T01:09:30.892775",
     "exception": false,
     "start_time": "2025-03-19T01:09:30.854458",
     "status": "completed"
    },
    "tags": []
   },
   "outputs": [
    {
     "name": "stdout",
     "output_type": "stream",
     "text": [
      "Ak\n",
      "w\n",
      "ir\n",
      "w\n",
      " \n",
      "ier\n"
     ]
    }
   ],
   "source": [
    "# Then, decode it one ID at a time\n",
    "for word_int in unk_word_int:\n",
    "    print(tokenizer.decode([word_int]))"
   ]
  },
  {
   "cell_type": "code",
   "execution_count": 23,
   "id": "13e823ae",
   "metadata": {
    "execution": {
     "iopub.execute_input": "2025-03-19T01:09:30.948744Z",
     "iopub.status.busy": "2025-03-19T01:09:30.948312Z",
     "iopub.status.idle": "2025-03-19T01:09:30.954244Z",
     "shell.execute_reply": "2025-03-19T01:09:30.953126Z"
    },
    "papermill": {
     "duration": 0.036172,
     "end_time": "2025-03-19T01:09:30.956273",
     "exception": false,
     "start_time": "2025-03-19T01:09:30.920101",
     "status": "completed"
    },
    "tags": []
   },
   "outputs": [
    {
     "data": {
      "text/plain": [
       "'Akwirw ier'"
      ]
     },
     "execution_count": 23,
     "metadata": {},
     "output_type": "execute_result"
    }
   ],
   "source": [
    "# Decode them all at once\n",
    "tokenizer.decode(unk_word_int)"
   ]
  },
  {
   "cell_type": "markdown",
   "id": "22538afb",
   "metadata": {
    "papermill": {
     "duration": 0.026762,
     "end_time": "2025-03-19T01:09:31.010215",
     "exception": false,
     "start_time": "2025-03-19T01:09:30.983453",
     "status": "completed"
    },
    "tags": []
   },
   "source": [
    "## Data sampling with a sliding window\n",
    "\n",
    "Preparing the data for the first task that is word prediction, it's necessary to create some functionality that can split the data as the text goes on.\n",
    "\n",
    "For example, if the text is `and established himself in`, then the preparation data to train a next word prediction should be something like this:\n",
    "\n",
    "`and ----> established`\n",
    "`and established ----> himself`\n",
    "`and established himself in ---> a`\n",
    "\n",
    "This text preparation is calles shifting, and the next cells will show how to do this."
   ]
  },
  {
   "cell_type": "code",
   "execution_count": 24,
   "id": "8fe39cc7",
   "metadata": {
    "execution": {
     "iopub.execute_input": "2025-03-19T01:09:31.066807Z",
     "iopub.status.busy": "2025-03-19T01:09:31.066413Z",
     "iopub.status.idle": "2025-03-19T01:09:31.075913Z",
     "shell.execute_reply": "2025-03-19T01:09:31.074440Z"
    },
    "papermill": {
     "duration": 0.040817,
     "end_time": "2025-03-19T01:09:31.077909",
     "exception": false,
     "start_time": "2025-03-19T01:09:31.037092",
     "status": "completed"
    },
    "tags": []
   },
   "outputs": [
    {
     "name": "stdout",
     "output_type": "stream",
     "text": [
      "5145\n"
     ]
    }
   ],
   "source": [
    "# First, encoding the original text using tiktoken\n",
    "enc_text = tokenizer.encode(raw_text)\n",
    "print(len(enc_text))"
   ]
  },
  {
   "cell_type": "code",
   "execution_count": 25,
   "id": "4c2c8564",
   "metadata": {
    "execution": {
     "iopub.execute_input": "2025-03-19T01:09:31.133664Z",
     "iopub.status.busy": "2025-03-19T01:09:31.133248Z",
     "iopub.status.idle": "2025-03-19T01:09:31.138224Z",
     "shell.execute_reply": "2025-03-19T01:09:31.136983Z"
    },
    "papermill": {
     "duration": 0.035153,
     "end_time": "2025-03-19T01:09:31.139993",
     "exception": false,
     "start_time": "2025-03-19T01:09:31.104840",
     "status": "completed"
    },
    "tags": []
   },
   "outputs": [],
   "source": [
    "# Then, removing the first 50 tokens\n",
    "enc_sample = enc_text[50:]"
   ]
  },
  {
   "cell_type": "code",
   "execution_count": 26,
   "id": "4b6410ad",
   "metadata": {
    "execution": {
     "iopub.execute_input": "2025-03-19T01:09:31.196399Z",
     "iopub.status.busy": "2025-03-19T01:09:31.195965Z",
     "iopub.status.idle": "2025-03-19T01:09:31.202564Z",
     "shell.execute_reply": "2025-03-19T01:09:31.201281Z"
    },
    "papermill": {
     "duration": 0.038167,
     "end_time": "2025-03-19T01:09:31.204815",
     "exception": false,
     "start_time": "2025-03-19T01:09:31.166648",
     "status": "completed"
    },
    "tags": []
   },
   "outputs": [
    {
     "name": "stdout",
     "output_type": "stream",
     "text": [
      "x: [290, 4920, 2241, 287]\n",
      "y:      [4920, 2241, 287, 257]\n"
     ]
    }
   ],
   "source": [
    "# Now, using a context size (a sampling window), a representation of value and prediction is shown\n",
    "# (shifting the original text 1 space to the right)\n",
    "context_size = 4\n",
    "x = enc_sample[:context_size]\n",
    "y = enc_sample[1:context_size + 1]\n",
    "print(f\"x: {x}\")\n",
    "print(f\"y:      {y}\")"
   ]
  },
  {
   "cell_type": "code",
   "execution_count": 27,
   "id": "f1a0cb37",
   "metadata": {
    "execution": {
     "iopub.execute_input": "2025-03-19T01:09:31.283566Z",
     "iopub.status.busy": "2025-03-19T01:09:31.282908Z",
     "iopub.status.idle": "2025-03-19T01:09:31.292373Z",
     "shell.execute_reply": "2025-03-19T01:09:31.291136Z"
    },
    "papermill": {
     "duration": 0.051951,
     "end_time": "2025-03-19T01:09:31.294564",
     "exception": false,
     "start_time": "2025-03-19T01:09:31.242613",
     "status": "completed"
    },
    "tags": []
   },
   "outputs": [
    {
     "name": "stdout",
     "output_type": "stream",
     "text": [
      "[290] ----> 4920\n",
      "[290, 4920] ----> 2241\n",
      "[290, 4920, 2241] ----> 287\n",
      "[290, 4920, 2241, 287] ----> 257\n"
     ]
    }
   ],
   "source": [
    "# Then, combine the idea into a loop so the sample is shifted\n",
    "# Here, the tokens after the arrow (--->) represents the desired output\n",
    "# While the tokens before it, represents the input.\n",
    "for i in range(1, context_size+1):\n",
    "    context = enc_sample[:i]\n",
    "    desired = enc_sample[i]\n",
    "    print(context, \"---->\", desired)"
   ]
  },
  {
   "cell_type": "code",
   "execution_count": 28,
   "id": "b0319aef",
   "metadata": {
    "execution": {
     "iopub.execute_input": "2025-03-19T01:09:31.349285Z",
     "iopub.status.busy": "2025-03-19T01:09:31.348833Z",
     "iopub.status.idle": "2025-03-19T01:09:31.357044Z",
     "shell.execute_reply": "2025-03-19T01:09:31.355700Z"
    },
    "papermill": {
     "duration": 0.03833,
     "end_time": "2025-03-19T01:09:31.359391",
     "exception": false,
     "start_time": "2025-03-19T01:09:31.321061",
     "status": "completed"
    },
    "tags": []
   },
   "outputs": [
    {
     "name": "stdout",
     "output_type": "stream",
     "text": [
      " and ---->  established\n",
      " and established ---->  himself\n",
      " and established himself ---->  in\n",
      " and established himself in ---->  a\n"
     ]
    }
   ],
   "source": [
    "# This last step is using the decoded tokens\n",
    "for i in range(1, context_size + 1):\n",
    "    context = enc_sample[:i]\n",
    "    desired = enc_sample[i]\n",
    "    print(tokenizer.decode(context), \"---->\", tokenizer.decode([desired]))"
   ]
  },
  {
   "cell_type": "markdown",
   "id": "3d27cfea",
   "metadata": {
    "papermill": {
     "duration": 0.04072,
     "end_time": "2025-03-19T01:09:31.433557",
     "exception": false,
     "start_time": "2025-03-19T01:09:31.392837",
     "status": "completed"
    },
    "tags": []
   },
   "source": [
    "## Data loader\n",
    "\n",
    "Now that the logic is clear, here a Data loader is created. This class purpose is to shift the original text by 1 position while representing it as a tensor.\n",
    "\n",
    "After the class, there is a function that uses the data loader to generate batches with input-with pairs."
   ]
  },
  {
   "cell_type": "code",
   "execution_count": 29,
   "id": "50cbf049",
   "metadata": {
    "execution": {
     "iopub.execute_input": "2025-03-19T01:09:31.516207Z",
     "iopub.status.busy": "2025-03-19T01:09:31.515838Z",
     "iopub.status.idle": "2025-03-19T01:09:36.044756Z",
     "shell.execute_reply": "2025-03-19T01:09:36.043349Z"
    },
    "papermill": {
     "duration": 4.569266,
     "end_time": "2025-03-19T01:09:36.047203",
     "exception": false,
     "start_time": "2025-03-19T01:09:31.477937",
     "status": "completed"
    },
    "tags": []
   },
   "outputs": [],
   "source": [
    "import torch\n",
    "from torch.utils.data import Dataset, DataLoader\n",
    "class GPTDatasetV1(Dataset):\n",
    "    def __init__(self, txt, tokenizer, max_length, stride):\n",
    "        self.input_ids = []\n",
    "        self.target_ids = []\n",
    "\n",
    "        # Tokenizes the entire text\n",
    "        token_ids = tokenizer.encode(txt)\n",
    "        for i in range(0, len(token_ids) - max_length, stride):\n",
    "            # Uses a sliding window to chunk the book into overlapping sequences of max_length\n",
    "            input_chunk = token_ids[i:i + max_length]\n",
    "            target_chunk = token_ids[i + 1: i + max_length]\n",
    "\n",
    "            self.input_ids.append(torch.tensor(input_chunk))\n",
    "            self.target_ids.append(torch.tensor(target_chunk))\n",
    "\n",
    "    def __len__(self):\n",
    "        # Returns the total number of rows in the dataset\n",
    "        return len(self.input_ids)\n",
    "\n",
    "    def __getitem__(self, idx):\n",
    "        # Returns a single row from the dataset\n",
    "        return self.input_ids[idx], self.target_ids[idx]"
   ]
  },
  {
   "cell_type": "code",
   "execution_count": 30,
   "id": "e8e86a17",
   "metadata": {
    "execution": {
     "iopub.execute_input": "2025-03-19T01:09:36.108513Z",
     "iopub.status.busy": "2025-03-19T01:09:36.107878Z",
     "iopub.status.idle": "2025-03-19T01:09:36.113527Z",
     "shell.execute_reply": "2025-03-19T01:09:36.112473Z"
    },
    "papermill": {
     "duration": 0.037116,
     "end_time": "2025-03-19T01:09:36.115556",
     "exception": false,
     "start_time": "2025-03-19T01:09:36.078440",
     "status": "completed"
    },
    "tags": []
   },
   "outputs": [],
   "source": [
    "def create_dataloader_v1(txt, batch_size=4, max_length=256, \n",
    "                         stride=128, shuffle=True, drop_last=True, num_workers=0):\n",
    "    # Initializes the tokenizer\n",
    "    tokenizerr = tiktoken.get_encoding(\"gpt2\")\n",
    "    dataset = GPTDatasetV1(txt, tokenizer, max_length, stride)\n",
    "    # Creates dataset\n",
    "    dataloader = DataLoader(\n",
    "        dataset,\n",
    "        batch_size=batch_size,\n",
    "        shuffle=shuffle,\n",
    "        # drops the last batch if it is shorter than the specified batch_size to prevent \n",
    "        # loss spikes during training\n",
    "        drop_last=drop_last,\n",
    "        # The number of CPU processes to use for preprocessing\n",
    "        num_workers=num_workers\n",
    "    )\n",
    "    return dataloader"
   ]
  },
  {
   "cell_type": "code",
   "execution_count": 31,
   "id": "848069c2",
   "metadata": {
    "execution": {
     "iopub.execute_input": "2025-03-19T01:09:36.172986Z",
     "iopub.status.busy": "2025-03-19T01:09:36.172599Z",
     "iopub.status.idle": "2025-03-19T01:09:36.309668Z",
     "shell.execute_reply": "2025-03-19T01:09:36.308481Z"
    },
    "papermill": {
     "duration": 0.168374,
     "end_time": "2025-03-19T01:09:36.311864",
     "exception": false,
     "start_time": "2025-03-19T01:09:36.143490",
     "status": "completed"
    },
    "tags": []
   },
   "outputs": [
    {
     "name": "stdout",
     "output_type": "stream",
     "text": [
      "[tensor([[  40,  367, 2885, 1464]]), tensor([[ 367, 2885, 1464]])]\n"
     ]
    }
   ],
   "source": [
    "dataloader = create_dataloader_v1(raw_text, batch_size=1, max_length=4, stride=1, shuffle=False)\n",
    "data_iter = iter(dataloader)\n",
    "first_batch = next(data_iter)\n",
    "print(first_batch)"
   ]
  },
  {
   "cell_type": "code",
   "execution_count": 32,
   "id": "ac7a899f",
   "metadata": {
    "execution": {
     "iopub.execute_input": "2025-03-19T01:09:36.369148Z",
     "iopub.status.busy": "2025-03-19T01:09:36.368784Z",
     "iopub.status.idle": "2025-03-19T01:09:36.375785Z",
     "shell.execute_reply": "2025-03-19T01:09:36.374494Z"
    },
    "papermill": {
     "duration": 0.038144,
     "end_time": "2025-03-19T01:09:36.377565",
     "exception": false,
     "start_time": "2025-03-19T01:09:36.339421",
     "status": "completed"
    },
    "tags": []
   },
   "outputs": [
    {
     "name": "stdout",
     "output_type": "stream",
     "text": [
      "[tensor([[ 367, 2885, 1464, 1807]]), tensor([[2885, 1464, 1807]])]\n"
     ]
    }
   ],
   "source": [
    "second_batch = next(data_iter)\n",
    "print(second_batch)"
   ]
  },
  {
   "cell_type": "markdown",
   "id": "3a6d1e02",
   "metadata": {
    "papermill": {
     "duration": 0.025569,
     "end_time": "2025-03-19T01:09:36.429481",
     "exception": false,
     "start_time": "2025-03-19T01:09:36.403912",
     "status": "completed"
    },
    "tags": []
   },
   "source": [
    "### Exercise 2.2 Data loaders with different strides and context sizes\n",
    "\n",
    "What the data loader does is splitting the text into batches (to be further used on the deeplearning model) using a `max_length` as the number of tokens in the context and the `stride` is the number of position the windows is going to be moved to the rigth.\n",
    "\n",
    "In other words:\n",
    "\n",
    "- `max_length` creates a representation of the numbers of tokens used to the context\n",
    "- `stride` the window size that the algorithm is going to move to the next batch"
   ]
  },
  {
   "cell_type": "code",
   "execution_count": 33,
   "id": "b72ebf75",
   "metadata": {
    "execution": {
     "iopub.execute_input": "2025-03-19T01:09:36.483167Z",
     "iopub.status.busy": "2025-03-19T01:09:36.482704Z",
     "iopub.status.idle": "2025-03-19T01:09:36.531452Z",
     "shell.execute_reply": "2025-03-19T01:09:36.529959Z"
    },
    "papermill": {
     "duration": 0.07795,
     "end_time": "2025-03-19T01:09:36.533512",
     "exception": false,
     "start_time": "2025-03-19T01:09:36.455562",
     "status": "completed"
    },
    "tags": []
   },
   "outputs": [
    {
     "name": "stdout",
     "output_type": "stream",
     "text": [
      "[tensor([[ 40, 367]]), tensor([[367]])]\n"
     ]
    }
   ],
   "source": [
    "# Here the max_length of two shows that the context only contains two previous tokens to predict\n",
    "# the outcome.\n",
    "# While the stride shows that the window is moving two spaces away from the first word\n",
    "dataloader = create_dataloader_v1(raw_text, batch_size=1, max_length=2, stride=2, shuffle=False)\n",
    "data_iter = iter(dataloader)\n",
    "first_batch = next(data_iter)\n",
    "print(first_batch)"
   ]
  },
  {
   "cell_type": "code",
   "execution_count": 34,
   "id": "1fdf053f",
   "metadata": {
    "execution": {
     "iopub.execute_input": "2025-03-19T01:09:36.590593Z",
     "iopub.status.busy": "2025-03-19T01:09:36.590188Z",
     "iopub.status.idle": "2025-03-19T01:09:36.640119Z",
     "shell.execute_reply": "2025-03-19T01:09:36.638687Z"
    },
    "papermill": {
     "duration": 0.080913,
     "end_time": "2025-03-19T01:09:36.642009",
     "exception": false,
     "start_time": "2025-03-19T01:09:36.561096",
     "status": "completed"
    },
    "tags": []
   },
   "outputs": [
    {
     "name": "stdout",
     "output_type": "stream",
     "text": [
      "[tensor([[  40,  367, 2885, 1464, 1807, 3619,  402,  271]]), tensor([[ 367, 2885, 1464, 1807, 3619,  402,  271]])]\n"
     ]
    }
   ],
   "source": [
    "# On this example, the context contains 8 tokens to predict the outcome\n",
    "# while the stride only moves to spaces. Here the stride context is clearer since the outcome contains\n",
    "# the second token away from the begining (367).\n",
    "dataloader = create_dataloader_v1(raw_text, batch_size=1, max_length=8, stride=2, shuffle=False)\n",
    "data_iter = iter(dataloader)\n",
    "first_batch = next(data_iter)\n",
    "print(first_batch)"
   ]
  },
  {
   "cell_type": "code",
   "execution_count": 35,
   "id": "90817556",
   "metadata": {
    "execution": {
     "iopub.execute_input": "2025-03-19T01:09:36.696093Z",
     "iopub.status.busy": "2025-03-19T01:09:36.695698Z",
     "iopub.status.idle": "2025-03-19T01:09:36.726579Z",
     "shell.execute_reply": "2025-03-19T01:09:36.725178Z"
    },
    "papermill": {
     "duration": 0.060424,
     "end_time": "2025-03-19T01:09:36.728833",
     "exception": false,
     "start_time": "2025-03-19T01:09:36.668409",
     "status": "completed"
    },
    "tags": []
   },
   "outputs": [
    {
     "name": "stdout",
     "output_type": "stream",
     "text": [
      "Inputs:\n",
      " tensor([[   40,   367,  2885,  1464],\n",
      "        [ 1807,  3619,   402,   271],\n",
      "        [10899,  2138,   257,  7026],\n",
      "        [15632,   438,  2016,   257],\n",
      "        [  922,  5891,  1576,   438],\n",
      "        [  568,   340,   373,   645],\n",
      "        [ 1049,  5975,   284,   502],\n",
      "        [  284,  3285,   326,    11]])\n",
      "\n",
      "Targets:\n",
      " tensor([[ 367, 2885, 1464],\n",
      "        [3619,  402,  271],\n",
      "        [2138,  257, 7026],\n",
      "        [ 438, 2016,  257],\n",
      "        [5891, 1576,  438],\n",
      "        [ 340,  373,  645],\n",
      "        [5975,  284,  502],\n",
      "        [3285,  326,   11]])\n"
     ]
    }
   ],
   "source": [
    "# The amount of data to train a deep learning model requires lot more of data, that why here \n",
    "# the batch_size is 8 to create a tensor of 8x4 size (batch_size x max_length)\n",
    "# And stride of 4. Having a max_length and stride the same size avoid overlapping between batches\n",
    "# since more overlap could lead to increased overfitting.\n",
    "dataloader = create_dataloader_v1(raw_text, batch_size=8, max_length=4, stride=4, shuffle=False)\n",
    "\n",
    "data_iter = iter(dataloader)\n",
    "inputs, targets = next(data_iter)\n",
    "print(\"Inputs:\\n\", inputs)\n",
    "print(\"\\nTargets:\\n\", targets)"
   ]
  },
  {
   "attachments": {
    "0bb662e5-8c4f-4697-b6c5-22a86add0d0c.png": {
     "image/png": "[encoded data removed]"
    },
    "0d6364cd-2fda-47b1-aedc-986c6f63f7ff.png": {
     "image/png": "[encoded data removed]"
    }
   },
   "cell_type": "markdown",
   "id": "83d6c322",
   "metadata": {
    "papermill": {
     "duration": 0.0275,
     "end_time": "2025-03-19T01:09:36.784975",
     "exception": false,
     "start_time": "2025-03-19T01:09:36.757475",
     "status": "completed"
    },
    "tags": []
   },
   "source": [
    "## Token embedings\n",
    "\n",
    "Until this step, all did was to create a numeric represetation of the original text, but they are not embeddings vectors. The embeddings vectors are context representation of words in a high dimensional vector space, each vector can be operated using other vectors.\n",
    "\n",
    "Vectors that are related to each other will have a smaller distance and angle. While their opposites will have higher angle. Moreover, words that are not related to each other will have higher distances relative to others.\n",
    "\n",
    "![image.png](attachment:0bb662e5-8c4f-4697-b6c5-22a86add0d0c.png)![image.png](attachment:0d6364cd-2fda-47b1-aedc-986c6f63f7ff.png)\n",
    "\n",
    "As a preliminary step for the embedding model, it is required to initialize the embedding weights with random values (this is called warmup) so it doesn't start cold (warming up the model help to find a solution faster and avoid valleys where the model could stuck).\n",
    "\n",
    "Using `torch` `Embedding` layer is a fancy representation of one-hot encoder and matrix multiplication in a fully connected layer (that is, having a high dimensional one-hot and doing a dimensionality reduction using matrix multiplication). Said this, the way to optimize this layer is by training it using backpropagation (as one optimizes the no-negative matrix decomposition).\n",
    "\n",
    ">NOTE: For more conceptual understanding on how embeddings works, here is a [video](https://youtu.be/wjZofJX0v4M?t=747&si=PYii_yDpiTVC89ji) that explain it better"
   ]
  },
  {
   "cell_type": "code",
   "execution_count": 36,
   "id": "63b5d259",
   "metadata": {
    "execution": {
     "iopub.execute_input": "2025-03-19T01:09:36.842221Z",
     "iopub.status.busy": "2025-03-19T01:09:36.841840Z",
     "iopub.status.idle": "2025-03-19T01:09:36.894157Z",
     "shell.execute_reply": "2025-03-19T01:09:36.892468Z"
    },
    "papermill": {
     "duration": 0.083721,
     "end_time": "2025-03-19T01:09:36.896677",
     "exception": false,
     "start_time": "2025-03-19T01:09:36.812956",
     "status": "completed"
    },
    "tags": []
   },
   "outputs": [
    {
     "name": "stdout",
     "output_type": "stream",
     "text": [
      "Parameter containing:\n",
      "tensor([[ 0.3374, -0.1778, -0.1690],\n",
      "        [ 0.9178,  1.5810,  1.3010],\n",
      "        [ 1.2753, -0.2010, -0.1606],\n",
      "        [-0.4015,  0.9666, -1.1481],\n",
      "        [-1.1589,  0.3255, -0.6315],\n",
      "        [-2.8400, -0.7849, -1.4096]], requires_grad=True)\n"
     ]
    }
   ],
   "source": [
    "input_ids = torch.tensor([2, 3, 5, 1])\n",
    "vocab_size = 6\n",
    "output_dim = 3\n",
    "\n",
    "torch.manual_seed(123)\n",
    "embedding_layer = torch.nn.Embedding(vocab_size, output_dim)\n",
    "print(embedding_layer.weight)"
   ]
  },
  {
   "cell_type": "code",
   "execution_count": 37,
   "id": "150d3278",
   "metadata": {
    "execution": {
     "iopub.execute_input": "2025-03-19T01:09:36.955637Z",
     "iopub.status.busy": "2025-03-19T01:09:36.955224Z",
     "iopub.status.idle": "2025-03-19T01:09:36.972312Z",
     "shell.execute_reply": "2025-03-19T01:09:36.970704Z"
    },
    "papermill": {
     "duration": 0.048896,
     "end_time": "2025-03-19T01:09:36.974454",
     "exception": false,
     "start_time": "2025-03-19T01:09:36.925558",
     "status": "completed"
    },
    "tags": []
   },
   "outputs": [
    {
     "name": "stdout",
     "output_type": "stream",
     "text": [
      "tensor([[-0.4015,  0.9666, -1.1481]], grad_fn=<EmbeddingBackward0>)\n"
     ]
    }
   ],
   "source": [
    "# This is basically a lookup operations, the number 3 here corresponds to the fourth \n",
    "# row in the embedding_layer.weights\n",
    "print(embedding_layer(torch.tensor([3])))"
   ]
  },
  {
   "cell_type": "code",
   "execution_count": 38,
   "id": "1386f5a0",
   "metadata": {
    "execution": {
     "iopub.execute_input": "2025-03-19T01:09:37.032728Z",
     "iopub.status.busy": "2025-03-19T01:09:37.032287Z",
     "iopub.status.idle": "2025-03-19T01:09:37.040521Z",
     "shell.execute_reply": "2025-03-19T01:09:37.038831Z"
    },
    "papermill": {
     "duration": 0.039591,
     "end_time": "2025-03-19T01:09:37.042464",
     "exception": false,
     "start_time": "2025-03-19T01:09:37.002873",
     "status": "completed"
    },
    "tags": []
   },
   "outputs": [
    {
     "name": "stdout",
     "output_type": "stream",
     "text": [
      "tensor([[ 1.2753, -0.2010, -0.1606],\n",
      "        [-0.4015,  0.9666, -1.1481],\n",
      "        [-2.8400, -0.7849, -1.4096],\n",
      "        [ 0.9178,  1.5810,  1.3010]], grad_fn=<EmbeddingBackward0>)\n"
     ]
    }
   ],
   "source": [
    "# Using the input_ids defined above\n",
    "print(embedding_layer(input_ids))"
   ]
  },
  {
   "cell_type": "markdown",
   "id": "6d9e9387",
   "metadata": {
    "papermill": {
     "duration": 0.026447,
     "end_time": "2025-03-19T01:09:37.095633",
     "exception": false,
     "start_time": "2025-03-19T01:09:37.069186",
     "status": "completed"
    },
    "tags": []
   },
   "source": [
    "## Encoding word positions\n",
    "\n",
    "LLMs doesn't have a notion of position or order for the tokens within a sequence because of their self-attention mechanism. This means no matter how the embedding layer represent the tokens, the LLM will only consider their vector representation and similarity.\n",
    "\n",
    "The deterministic position-independent embedding of the token ID is good for reproducibility. Since the self-attention mechanism of the LLM is position-agnostic, it is helpful to inject additional position information into the LLM."
   ]
  },
  {
   "cell_type": "code",
   "execution_count": 39,
   "id": "fd9df28e",
   "metadata": {
    "execution": {
     "iopub.execute_input": "2025-03-19T01:09:37.151760Z",
     "iopub.status.busy": "2025-03-19T01:09:37.151284Z",
     "iopub.status.idle": "2025-03-19T01:09:37.322034Z",
     "shell.execute_reply": "2025-03-19T01:09:37.320632Z"
    },
    "papermill": {
     "duration": 0.201417,
     "end_time": "2025-03-19T01:09:37.324370",
     "exception": false,
     "start_time": "2025-03-19T01:09:37.122953",
     "status": "completed"
    },
    "tags": []
   },
   "outputs": [
    {
     "name": "stdout",
     "output_type": "stream",
     "text": [
      "Token IDs:\n",
      " tensor([[   40,   367,  2885,  1464],\n",
      "        [ 1807,  3619,   402,   271],\n",
      "        [10899,  2138,   257,  7026],\n",
      "        [15632,   438,  2016,   257],\n",
      "        [  922,  5891,  1576,   438],\n",
      "        [  568,   340,   373,   645],\n",
      "        [ 1049,  5975,   284,   502],\n",
      "        [  284,  3285,   326,    11]])\n",
      "\n",
      "Inputs shape:\n",
      " torch.Size([8, 4])\n"
     ]
    }
   ],
   "source": [
    "vocab_size = 50_257\n",
    "output_dim = 256\n",
    "token_embedding_layer = torch.nn.Embedding(vocab_size, output_dim)\n",
    "\n",
    "max_length = 4\n",
    "dataloader = create_dataloader_v1(raw_text, batch_size=8, max_length=max_length, \n",
    "                                  stride=max_length, shuffle=False)\n",
    "data_iter = iter(dataloader)\n",
    "inputs, targets = next(data_iter)\n",
    "print(\"Token IDs:\\n\", inputs)\n",
    "print(\"\\nInputs shape:\\n\", inputs.shape)"
   ]
  },
  {
   "cell_type": "code",
   "execution_count": 40,
   "id": "920b2bec",
   "metadata": {
    "execution": {
     "iopub.execute_input": "2025-03-19T01:09:37.382228Z",
     "iopub.status.busy": "2025-03-19T01:09:37.381830Z",
     "iopub.status.idle": "2025-03-19T01:09:37.387999Z",
     "shell.execute_reply": "2025-03-19T01:09:37.386670Z"
    },
    "papermill": {
     "duration": 0.036975,
     "end_time": "2025-03-19T01:09:37.389759",
     "exception": false,
     "start_time": "2025-03-19T01:09:37.352784",
     "status": "completed"
    },
    "tags": []
   },
   "outputs": [
    {
     "name": "stdout",
     "output_type": "stream",
     "text": [
      "torch.Size([8, 4, 256])\n"
     ]
    }
   ],
   "source": [
    "token_embeddings = token_embedding_layer(inputs)\n",
    "print(token_embeddings.shape)"
   ]
  },
  {
   "cell_type": "code",
   "execution_count": 41,
   "id": "93af3049",
   "metadata": {
    "execution": {
     "iopub.execute_input": "2025-03-19T01:09:37.448383Z",
     "iopub.status.busy": "2025-03-19T01:09:37.447953Z",
     "iopub.status.idle": "2025-03-19T01:09:37.456368Z",
     "shell.execute_reply": "2025-03-19T01:09:37.455100Z"
    },
    "papermill": {
     "duration": 0.040012,
     "end_time": "2025-03-19T01:09:37.458076",
     "exception": false,
     "start_time": "2025-03-19T01:09:37.418064",
     "status": "completed"
    },
    "tags": []
   },
   "outputs": [
    {
     "name": "stdout",
     "output_type": "stream",
     "text": [
      "torch.Size([4, 256])\n"
     ]
    }
   ],
   "source": [
    "context_length = max_length\n",
    "pos_embedding_layer = torch.nn.Embedding(context_length, output_dim)\n",
    "# This will create a placeholder having an array with consecutive numbers.\n",
    "pos_embeddings = pos_embedding_layer(torch.arange(context_length))\n",
    "print(pos_embeddings.shape)"
   ]
  },
  {
   "cell_type": "code",
   "execution_count": 42,
   "id": "0d9dd555",
   "metadata": {
    "execution": {
     "iopub.execute_input": "2025-03-19T01:09:37.516507Z",
     "iopub.status.busy": "2025-03-19T01:09:37.516003Z",
     "iopub.status.idle": "2025-03-19T01:09:37.524390Z",
     "shell.execute_reply": "2025-03-19T01:09:37.523155Z"
    },
    "papermill": {
     "duration": 0.039647,
     "end_time": "2025-03-19T01:09:37.526213",
     "exception": false,
     "start_time": "2025-03-19T01:09:37.486566",
     "status": "completed"
    },
    "tags": []
   },
   "outputs": [
    {
     "name": "stdout",
     "output_type": "stream",
     "text": [
      "torch.Size([8, 4, 256])\n"
     ]
    }
   ],
   "source": [
    "# At this step, the input embeddings is the sum of the token embeddings \n",
    "# (generated by the embedding layer) and a positional embeddings \n",
    "# (that represent the order of each embedding)\n",
    "input_embeddings = token_embeddings + pos_embeddings\n",
    "print(input_embeddings.shape)"
   ]
  },
  {
   "cell_type": "markdown",
   "id": "1e329786",
   "metadata": {
    "papermill": {
     "duration": 0.027634,
     "end_time": "2025-03-19T01:09:37.581697",
     "exception": false,
     "start_time": "2025-03-19T01:09:37.554063",
     "status": "completed"
    },
    "tags": []
   },
   "source": [
    "# Self-attention mechanism\n",
    "\n",
    "The next step is to create an attention mechanism that provides to the LLM relevant context to each word.\n",
    "\n",
    "For example, having the phrases:\n",
    "\n",
    "- American shrew mole\n",
    "- One mole of carbon dioxide\n",
    "- Take a biopsy of the mole\n",
    "\n",
    "In these three phrases **mole** mean different things, but the LLM doesn't know what you refer to since their tokens are exactly the same.\n",
    "\n",
    "Therefore, the LLM should be capable of extracting the context to each sentence and build the meaning of each **mole** based on their surrounding context.\n",
    "\n",
    "Before transformers where popular, Recurrent Neural Networks (RNNs) were the way to perform translations becuase of their capability to extract information from sequence, using a similar architecture of encoder-decoder. However, their predictions relies only in the very next word, without considering previous words.\n",
    "\n",
    "Researchers developed the Bahdanau attention mechanism for RNNs in 2014, allowing the decoder ti sekectuveky access dufferent parts of the input sequence at each decoding step.\n",
    "\n",
    "This motivates other researches to create self-attention mechanisms without the usage of deep neural networks.\n",
    "\n",
    "> NOTE: This [video](https://youtu.be/eMlx5fFNoYc?si=SJOY9jKveNWiMTfb) explaing better than I how attention mechanism works.\n",
    "\n",
    "## Attending to different parts of the input with self-attention\n",
    "\n",
    "The **\"self\"** refers to the mechanism's ability to compute attention weights by relating different positions within a single input sequence (like said before, the LLM should build the meaning of all words in a sentence).\n",
    "\n",
    "In the following example, the intention is to achieve the following:\n",
    "\n",
    "1. Compute attention scores\n",
    "2. Compute attention weights (or `w`)\n",
    "3. Compute context vector\n",
    "\n",
    "> **What is query, key and value?**\n",
    "> \n",
    "> The concept is borrowed from infromation retrieval and databases.\n",
    ">\n",
    "> Where ***query*** is the search term, represented here as the current item;\n",
    "> \n",
    "> ***key*** is used for indexing and searching, in attention mechanisms each word in a sentence has an associated key; and\n",
    ">\n",
    "> ***value*** is similar to the value in a key-value pair in a database, represented as the actual content or presentation of the input items."
   ]
  },
  {
   "cell_type": "code",
   "execution_count": 43,
   "id": "9fbfd69a",
   "metadata": {
    "execution": {
     "iopub.execute_input": "2025-03-19T01:09:37.639891Z",
     "iopub.status.busy": "2025-03-19T01:09:37.639540Z",
     "iopub.status.idle": "2025-03-19T01:09:37.645107Z",
     "shell.execute_reply": "2025-03-19T01:09:37.644060Z"
    },
    "papermill": {
     "duration": 0.036888,
     "end_time": "2025-03-19T01:09:37.646982",
     "exception": false,
     "start_time": "2025-03-19T01:09:37.610094",
     "status": "completed"
    },
    "tags": []
   },
   "outputs": [],
   "source": [
    "import torch\n",
    "inputs = torch.tensor(\n",
    "    [[0.43, 0.15, 0.89], # Your\n",
    "     [0.55, 0.87, 0.66], # journey\n",
    "     [0.57, 0.85, 0.64], # starts\n",
    "     [0.22, 0.58, 0.33], # with\n",
    "     [0.77, 0.25, 0.10], # one\n",
    "     [0.05, 0.80, 0.55]] # step\n",
    ")"
   ]
  },
  {
   "cell_type": "code",
   "execution_count": 44,
   "id": "cdedab46",
   "metadata": {
    "execution": {
     "iopub.execute_input": "2025-03-19T01:09:37.704522Z",
     "iopub.status.busy": "2025-03-19T01:09:37.704166Z",
     "iopub.status.idle": "2025-03-19T01:09:37.720103Z",
     "shell.execute_reply": "2025-03-19T01:09:37.718570Z"
    },
    "papermill": {
     "duration": 0.04714,
     "end_time": "2025-03-19T01:09:37.722283",
     "exception": false,
     "start_time": "2025-03-19T01:09:37.675143",
     "status": "completed"
    },
    "tags": []
   },
   "outputs": [
    {
     "name": "stdout",
     "output_type": "stream",
     "text": [
      "tensor([0.9544, 1.4950, 1.4754, 0.8434, 0.7070, 1.0865])\n"
     ]
    }
   ],
   "source": [
    "# 1. Attention scores\n",
    "\n",
    "# To calculate attention scores between the query token and each input token, we use the dot product\n",
    "query = inputs[1]\n",
    "attn_scores_2 = torch.empty(inputs.shape[0])\n",
    "for i, x_i in enumerate(inputs):\n",
    "    attn_scores_2[i] = torch.dot(x_i, query)\n",
    "\n",
    "print(attn_scores_2)"
   ]
  },
  {
   "cell_type": "code",
   "execution_count": 45,
   "id": "10eb1261",
   "metadata": {
    "execution": {
     "iopub.execute_input": "2025-03-19T01:09:37.782290Z",
     "iopub.status.busy": "2025-03-19T01:09:37.781895Z",
     "iopub.status.idle": "2025-03-19T01:09:37.796112Z",
     "shell.execute_reply": "2025-03-19T01:09:37.794765Z"
    },
    "papermill": {
     "duration": 0.046814,
     "end_time": "2025-03-19T01:09:37.798133",
     "exception": false,
     "start_time": "2025-03-19T01:09:37.751319",
     "status": "completed"
    },
    "tags": []
   },
   "outputs": [
    {
     "name": "stdout",
     "output_type": "stream",
     "text": [
      "Attention weights:  tensor([0.1385, 0.2379, 0.2333, 0.1240, 0.1082, 0.1581])\n"
     ]
    }
   ],
   "source": [
    "# 2. Attention weights\n",
    "\n",
    "# Now, lets convert the scores into weights by normalizing them.\n",
    "\n",
    "# Normalization will make all scores to sum up to 1, \n",
    "# this is a common practice that's useful for interpretation and training stability.\n",
    "\n",
    "# Using softmax manage extreme values and offers more favorable gradient properties during training.\n",
    "\n",
    "# In addition, softmax ensures that all values are positive, \n",
    "# making the output interpretable as probabilities\n",
    "\n",
    "attn_weights_2 = torch.softmax(attn_scores_2, dim=0)\n",
    "print(\"Attention weights: \", attn_weights_2)"
   ]
  },
  {
   "cell_type": "code",
   "execution_count": 46,
   "id": "c8f8b509",
   "metadata": {
    "execution": {
     "iopub.execute_input": "2025-03-19T01:09:37.858144Z",
     "iopub.status.busy": "2025-03-19T01:09:37.857691Z",
     "iopub.status.idle": "2025-03-19T01:09:37.869868Z",
     "shell.execute_reply": "2025-03-19T01:09:37.868482Z"
    },
    "papermill": {
     "duration": 0.044139,
     "end_time": "2025-03-19T01:09:37.872151",
     "exception": false,
     "start_time": "2025-03-19T01:09:37.828012",
     "status": "completed"
    },
    "tags": []
   },
   "outputs": [
    {
     "name": "stdout",
     "output_type": "stream",
     "text": [
      "tensor([0.4419, 0.6515, 0.5683])\n"
     ]
    }
   ],
   "source": [
    "# 3. Context Vector\n",
    "\n",
    "# Last step is calculate the context vector. This vector is a weighted sum of all input vectors.\n",
    "\n",
    "query = inputs[i]\n",
    "context_vec_2 = torch.zeros(query.shape)\n",
    "for i, x_i in enumerate(inputs):\n",
    "    context_vec_2 += attn_weights_2[i]*x_i\n",
    "\n",
    "print(context_vec_2)"
   ]
  },
  {
   "cell_type": "code",
   "execution_count": 47,
   "id": "26ab7a0e",
   "metadata": {
    "execution": {
     "iopub.execute_input": "2025-03-19T01:09:37.932451Z",
     "iopub.status.busy": "2025-03-19T01:09:37.931974Z",
     "iopub.status.idle": "2025-03-19T01:09:37.957417Z",
     "shell.execute_reply": "2025-03-19T01:09:37.956005Z"
    },
    "papermill": {
     "duration": 0.058811,
     "end_time": "2025-03-19T01:09:37.959537",
     "exception": false,
     "start_time": "2025-03-19T01:09:37.900726",
     "status": "completed"
    },
    "tags": []
   },
   "outputs": [
    {
     "name": "stdout",
     "output_type": "stream",
     "text": [
      "tensor([[0.9995, 0.9544, 0.9422, 0.4753, 0.4576, 0.6310],\n",
      "        [0.9544, 1.4950, 1.4754, 0.8434, 0.7070, 1.0865],\n",
      "        [0.9422, 1.4754, 1.4570, 0.8296, 0.7154, 1.0605],\n",
      "        [0.4753, 0.8434, 0.8296, 0.4937, 0.3474, 0.6565],\n",
      "        [0.4576, 0.7070, 0.7154, 0.3474, 0.6654, 0.2935],\n",
      "        [0.6310, 1.0865, 1.0605, 0.6565, 0.2935, 0.9450]])\n"
     ]
    }
   ],
   "source": [
    "# Generalizing the previous three steps into a single one to compute context vectors to all inputs\n",
    "\n",
    "# 1. Attention scores\n",
    "attn_scores = inputs @ inputs.T # <- the @ is the same as having two for loops \n",
    "                                #    multiplying the two dimension input.\n",
    "\n",
    "print(attn_scores)"
   ]
  },
  {
   "cell_type": "code",
   "execution_count": 48,
   "id": "3ccc17d1",
   "metadata": {
    "execution": {
     "iopub.execute_input": "2025-03-19T01:09:38.018664Z",
     "iopub.status.busy": "2025-03-19T01:09:38.018260Z",
     "iopub.status.idle": "2025-03-19T01:09:38.025841Z",
     "shell.execute_reply": "2025-03-19T01:09:38.024564Z"
    },
    "papermill": {
     "duration": 0.039984,
     "end_time": "2025-03-19T01:09:38.027884",
     "exception": false,
     "start_time": "2025-03-19T01:09:37.987900",
     "status": "completed"
    },
    "tags": []
   },
   "outputs": [
    {
     "name": "stdout",
     "output_type": "stream",
     "text": [
      "tensor([[0.2098, 0.2006, 0.1981, 0.1242, 0.1220, 0.1452],\n",
      "        [0.1385, 0.2379, 0.2333, 0.1240, 0.1082, 0.1581],\n",
      "        [0.1390, 0.2369, 0.2326, 0.1242, 0.1108, 0.1565],\n",
      "        [0.1435, 0.2074, 0.2046, 0.1462, 0.1263, 0.1720],\n",
      "        [0.1526, 0.1958, 0.1975, 0.1367, 0.1879, 0.1295],\n",
      "        [0.1385, 0.2184, 0.2128, 0.1420, 0.0988, 0.1896]])\n"
     ]
    }
   ],
   "source": [
    "# 2. Attention weights\n",
    "\n",
    "attn_weights = torch.softmax(attn_scores, dim=-1)\n",
    "print(attn_weights)"
   ]
  },
  {
   "cell_type": "code",
   "execution_count": 49,
   "id": "52bd92e3",
   "metadata": {
    "execution": {
     "iopub.execute_input": "2025-03-19T01:09:38.085458Z",
     "iopub.status.busy": "2025-03-19T01:09:38.085005Z",
     "iopub.status.idle": "2025-03-19T01:09:38.094108Z",
     "shell.execute_reply": "2025-03-19T01:09:38.092824Z"
    },
    "papermill": {
     "duration": 0.04083,
     "end_time": "2025-03-19T01:09:38.096492",
     "exception": false,
     "start_time": "2025-03-19T01:09:38.055662",
     "status": "completed"
    },
    "tags": []
   },
   "outputs": [
    {
     "name": "stdout",
     "output_type": "stream",
     "text": [
      "tensor([[0.4421, 0.5931, 0.5790],\n",
      "        [0.4419, 0.6515, 0.5683],\n",
      "        [0.4431, 0.6496, 0.5671],\n",
      "        [0.4304, 0.6298, 0.5510],\n",
      "        [0.4671, 0.5910, 0.5266],\n",
      "        [0.4177, 0.6503, 0.5645]])\n"
     ]
    }
   ],
   "source": [
    "# 3. Context vectors\n",
    "\n",
    "all_context_vecs = attn_weights @ inputs\n",
    "print(all_context_vecs)"
   ]
  },
  {
   "cell_type": "markdown",
   "id": "330e8847",
   "metadata": {
    "papermill": {
     "duration": 0.026996,
     "end_time": "2025-03-19T01:09:38.151570",
     "exception": false,
     "start_time": "2025-03-19T01:09:38.124574",
     "status": "completed"
    },
    "tags": []
   },
   "source": [
    "## Self-attention mechanism with trainable weights\n",
    "\n",
    "The next step is adding trainable weights that are updated during model training, so the model can learn to produce good context vectors.\n",
    "\n",
    "The new self-attention mechanism will use three trainable weights matrices, $W_q$, $W_k$, $W_v$. These matrices are used to project the embedded input tokens into query, key, and value vectors.\n",
    "\n",
    "The first word would only has key and value vectors, then the second word would has query, key and value vectors (the query vector is computed via matrix multiplication between the input and the weight matrix $W_q$)."
   ]
  },
  {
   "cell_type": "code",
   "execution_count": 50,
   "id": "10ec1939",
   "metadata": {
    "execution": {
     "iopub.execute_input": "2025-03-19T01:09:38.209194Z",
     "iopub.status.busy": "2025-03-19T01:09:38.208776Z",
     "iopub.status.idle": "2025-03-19T01:09:38.220608Z",
     "shell.execute_reply": "2025-03-19T01:09:38.219363Z"
    },
    "papermill": {
     "duration": 0.043447,
     "end_time": "2025-03-19T01:09:38.222638",
     "exception": false,
     "start_time": "2025-03-19T01:09:38.179191",
     "status": "completed"
    },
    "tags": []
   },
   "outputs": [],
   "source": [
    "x_2 = inputs[1]\n",
    "d_in = inputs.shape[1]\n",
    "d_out = 2\n",
    "\n",
    "torch.manual_seed(123)\n",
    "W_query = torch.nn.Parameter(torch.rand(d_in, d_out), requires_grad=False)\n",
    "W_key = torch.nn.Parameter(torch.rand(d_in, d_out), requires_grad=False)\n",
    "W_value = torch.nn.Parameter(torch.rand(d_in, d_out), requires_grad=False)"
   ]
  },
  {
   "cell_type": "code",
   "execution_count": 51,
   "id": "89dd2635",
   "metadata": {
    "execution": {
     "iopub.execute_input": "2025-03-19T01:09:38.280208Z",
     "iopub.status.busy": "2025-03-19T01:09:38.279688Z",
     "iopub.status.idle": "2025-03-19T01:09:38.288640Z",
     "shell.execute_reply": "2025-03-19T01:09:38.287237Z"
    },
    "papermill": {
     "duration": 0.040864,
     "end_time": "2025-03-19T01:09:38.290774",
     "exception": false,
     "start_time": "2025-03-19T01:09:38.249910",
     "status": "completed"
    },
    "tags": []
   },
   "outputs": [
    {
     "name": "stdout",
     "output_type": "stream",
     "text": [
      "tensor([0.4306, 1.4551])\n"
     ]
    }
   ],
   "source": [
    "# Query, key and values computation\n",
    "\n",
    "query_2 = x_2 @ W_query\n",
    "key_2 = x_2 @ W_key\n",
    "value_2 = x_2 @ W_value\n",
    "\n",
    "print(query_2)"
   ]
  },
  {
   "cell_type": "code",
   "execution_count": 52,
   "id": "35df3f97",
   "metadata": {
    "execution": {
     "iopub.execute_input": "2025-03-19T01:09:38.351255Z",
     "iopub.status.busy": "2025-03-19T01:09:38.350852Z",
     "iopub.status.idle": "2025-03-19T01:09:38.357583Z",
     "shell.execute_reply": "2025-03-19T01:09:38.356210Z"
    },
    "papermill": {
     "duration": 0.039351,
     "end_time": "2025-03-19T01:09:38.359333",
     "exception": false,
     "start_time": "2025-03-19T01:09:38.319982",
     "status": "completed"
    },
    "tags": []
   },
   "outputs": [
    {
     "name": "stdout",
     "output_type": "stream",
     "text": [
      "keys.shape:  torch.Size([6, 2])\n",
      "values.shape:  torch.Size([6, 2])\n"
     ]
    }
   ],
   "source": [
    "# Keys and values vectors\n",
    "\n",
    "keys = inputs @ W_key\n",
    "values = inputs @ W_value\n",
    "print(\"keys.shape: \", keys.shape)\n",
    "print(\"values.shape: \", values.shape)"
   ]
  },
  {
   "cell_type": "code",
   "execution_count": 53,
   "id": "3d015d79",
   "metadata": {
    "execution": {
     "iopub.execute_input": "2025-03-19T01:09:38.416274Z",
     "iopub.status.busy": "2025-03-19T01:09:38.415762Z",
     "iopub.status.idle": "2025-03-19T01:09:38.423488Z",
     "shell.execute_reply": "2025-03-19T01:09:38.422110Z"
    },
    "papermill": {
     "duration": 0.038258,
     "end_time": "2025-03-19T01:09:38.425327",
     "exception": false,
     "start_time": "2025-03-19T01:09:38.387069",
     "status": "completed"
    },
    "tags": []
   },
   "outputs": [
    {
     "name": "stdout",
     "output_type": "stream",
     "text": [
      "tensor(1.8524)\n"
     ]
    }
   ],
   "source": [
    "# Attention scores\n",
    "\n",
    "keys_2 = keys[1]\n",
    "attn_scores_22 = query_2.dot(keys_2)\n",
    "print(attn_scores_22)"
   ]
  },
  {
   "cell_type": "code",
   "execution_count": 54,
   "id": "33b04048",
   "metadata": {
    "execution": {
     "iopub.execute_input": "2025-03-19T01:09:38.481890Z",
     "iopub.status.busy": "2025-03-19T01:09:38.481464Z",
     "iopub.status.idle": "2025-03-19T01:09:38.488853Z",
     "shell.execute_reply": "2025-03-19T01:09:38.487468Z"
    },
    "papermill": {
     "duration": 0.038401,
     "end_time": "2025-03-19T01:09:38.491010",
     "exception": false,
     "start_time": "2025-03-19T01:09:38.452609",
     "status": "completed"
    },
    "tags": []
   },
   "outputs": [
    {
     "name": "stdout",
     "output_type": "stream",
     "text": [
      "tensor([1.2705, 1.8524, 1.8111, 1.0795, 0.5577, 1.5440])\n"
     ]
    }
   ],
   "source": [
    "# Attention scores generalization\n",
    "\n",
    "attn_scores_2 = query_2 @ keys.T\n",
    "print(attn_scores_2)"
   ]
  },
  {
   "cell_type": "code",
   "execution_count": 55,
   "id": "5f925990",
   "metadata": {
    "execution": {
     "iopub.execute_input": "2025-03-19T01:09:38.547283Z",
     "iopub.status.busy": "2025-03-19T01:09:38.546837Z",
     "iopub.status.idle": "2025-03-19T01:09:38.555115Z",
     "shell.execute_reply": "2025-03-19T01:09:38.553762Z"
    },
    "papermill": {
     "duration": 0.038516,
     "end_time": "2025-03-19T01:09:38.556837",
     "exception": false,
     "start_time": "2025-03-19T01:09:38.518321",
     "status": "completed"
    },
    "tags": []
   },
   "outputs": [
    {
     "name": "stdout",
     "output_type": "stream",
     "text": [
      "tensor([0.1500, 0.2264, 0.2199, 0.1311, 0.0906, 0.1820])\n"
     ]
    }
   ],
   "source": [
    "# Attention scores normalization (attention weights)\n",
    "# At this step, a scaling is performed over the attention scores. This is to avoid small gradients that\n",
    "# can turn softmax function into a step function, slowing down learning.\n",
    "\n",
    "d_k = keys.shape[-1]\n",
    "attn_weights_2 = torch.softmax(attn_scores_2 / d_k**0.5, dim=-1)\n",
    "print(attn_weights_2)"
   ]
  },
  {
   "cell_type": "code",
   "execution_count": 56,
   "id": "59e14010",
   "metadata": {
    "execution": {
     "iopub.execute_input": "2025-03-19T01:09:38.612998Z",
     "iopub.status.busy": "2025-03-19T01:09:38.612631Z",
     "iopub.status.idle": "2025-03-19T01:09:38.619889Z",
     "shell.execute_reply": "2025-03-19T01:09:38.618196Z"
    },
    "papermill": {
     "duration": 0.037594,
     "end_time": "2025-03-19T01:09:38.622069",
     "exception": false,
     "start_time": "2025-03-19T01:09:38.584475",
     "status": "completed"
    },
    "tags": []
   },
   "outputs": [
    {
     "name": "stdout",
     "output_type": "stream",
     "text": [
      "tensor([0.3061, 0.8210])\n"
     ]
    }
   ],
   "source": [
    "context_vec_2 = attn_weights_2 @ values\n",
    "print(context_vec_2)"
   ]
  },
  {
   "cell_type": "code",
   "execution_count": 57,
   "id": "a4119b6f",
   "metadata": {
    "execution": {
     "iopub.execute_input": "2025-03-19T01:09:38.683653Z",
     "iopub.status.busy": "2025-03-19T01:09:38.683243Z",
     "iopub.status.idle": "2025-03-19T01:09:38.690226Z",
     "shell.execute_reply": "2025-03-19T01:09:38.689121Z"
    },
    "papermill": {
     "duration": 0.039722,
     "end_time": "2025-03-19T01:09:38.692187",
     "exception": false,
     "start_time": "2025-03-19T01:09:38.652465",
     "status": "completed"
    },
    "tags": []
   },
   "outputs": [],
   "source": [
    "# Compact self-attention class\n",
    "import torch.nn as nn\n",
    "\n",
    "class SelfAttention_v1(nn.Module):\n",
    "\n",
    "    def __init__(self, d_in, d_out):\n",
    "        super().__init__()\n",
    "        self.W_query = nn.Parameter(torch.rand(d_in, d_out))\n",
    "        self.W_key = nn.Parameter(torch.rand(d_in, d_out))\n",
    "        self.W_value = nn.Parameter(torch.rand(d_in, d_out))\n",
    "\n",
    "    def forward(self, x):\n",
    "        keys = x @ self.W_key\n",
    "        queries = x @ self.W_query\n",
    "        values = x @ self.W_value\n",
    "        attn_scores = queries @ keys.T # omega\n",
    "        attn_weights = torch.softmax(\n",
    "            attn_scores / keys.shape[-1]**0.5, dim=-1\n",
    "        )\n",
    "        context_vec = attn_weights @ values\n",
    "        return context_vec"
   ]
  },
  {
   "cell_type": "code",
   "execution_count": 58,
   "id": "414db2c8",
   "metadata": {
    "execution": {
     "iopub.execute_input": "2025-03-19T01:09:38.752948Z",
     "iopub.status.busy": "2025-03-19T01:09:38.752465Z",
     "iopub.status.idle": "2025-03-19T01:09:38.766477Z",
     "shell.execute_reply": "2025-03-19T01:09:38.764800Z"
    },
    "papermill": {
     "duration": 0.047961,
     "end_time": "2025-03-19T01:09:38.768812",
     "exception": false,
     "start_time": "2025-03-19T01:09:38.720851",
     "status": "completed"
    },
    "tags": []
   },
   "outputs": [
    {
     "name": "stdout",
     "output_type": "stream",
     "text": [
      "tensor([[0.2996, 0.8053],\n",
      "        [0.3061, 0.8210],\n",
      "        [0.3058, 0.8203],\n",
      "        [0.2948, 0.7939],\n",
      "        [0.2927, 0.7891],\n",
      "        [0.2990, 0.8040]], grad_fn=<MmBackward0>)\n"
     ]
    }
   ],
   "source": [
    "torch.manual_seed(123)\n",
    "sa_v1 = SelfAttention_v1(d_in, d_out)\n",
    "print(sa_v1(inputs))"
   ]
  },
  {
   "cell_type": "code",
   "execution_count": 59,
   "id": "3e4505a7",
   "metadata": {
    "execution": {
     "iopub.execute_input": "2025-03-19T01:09:38.829051Z",
     "iopub.status.busy": "2025-03-19T01:09:38.828671Z",
     "iopub.status.idle": "2025-03-19T01:09:38.835642Z",
     "shell.execute_reply": "2025-03-19T01:09:38.834319Z"
    },
    "papermill": {
     "duration": 0.039394,
     "end_time": "2025-03-19T01:09:38.837458",
     "exception": false,
     "start_time": "2025-03-19T01:09:38.798064",
     "status": "completed"
    },
    "tags": []
   },
   "outputs": [],
   "source": [
    "# To improve performance and be able to optimice weights, we replace nn.Parameter to nn.Linear\n",
    "# This layer calculates dot product if bias is removed\n",
    "\n",
    "class SelfAttention_v2(nn.Module):\n",
    "\n",
    "    def __init__(self, d_in, d_out, qkv_bias=False):\n",
    "        super().__init__()\n",
    "        self.W_query = nn.Linear(d_in, d_out, bias=qkv_bias)\n",
    "        self.W_key = nn.Linear(d_in, d_out, bias=qkv_bias)\n",
    "        self.W_value = nn.Linear(d_in, d_out, bias=qkv_bias)\n",
    "\n",
    "    def forward(self, x):\n",
    "        keys = self.W_key(x)\n",
    "        queries = self.W_query(x)\n",
    "        values = self.W_value(x)\n",
    "        attn_scores = queries @ keys.T # omega\n",
    "        attn_weights = torch.softmax(\n",
    "            attn_scores / keys.shape[-1]**0.5, dim=-1\n",
    "        )\n",
    "        context_vec = attn_weights @ values\n",
    "        return context_vec"
   ]
  },
  {
   "cell_type": "code",
   "execution_count": 60,
   "id": "0bb6d8d4",
   "metadata": {
    "execution": {
     "iopub.execute_input": "2025-03-19T01:09:38.894855Z",
     "iopub.status.busy": "2025-03-19T01:09:38.894403Z",
     "iopub.status.idle": "2025-03-19T01:09:38.906589Z",
     "shell.execute_reply": "2025-03-19T01:09:38.904930Z"
    },
    "papermill": {
     "duration": 0.043093,
     "end_time": "2025-03-19T01:09:38.908863",
     "exception": false,
     "start_time": "2025-03-19T01:09:38.865770",
     "status": "completed"
    },
    "tags": []
   },
   "outputs": [
    {
     "name": "stdout",
     "output_type": "stream",
     "text": [
      "tensor([[-0.5337, -0.1051],\n",
      "        [-0.5323, -0.1080],\n",
      "        [-0.5323, -0.1079],\n",
      "        [-0.5297, -0.1076],\n",
      "        [-0.5311, -0.1066],\n",
      "        [-0.5299, -0.1081]], grad_fn=<MmBackward0>)\n"
     ]
    }
   ],
   "source": [
    "torch.manual_seed(123)\n",
    "sa_v2 = SelfAttention_v2(d_in, d_out)\n",
    "print(sa_v2(inputs))"
   ]
  },
  {
   "cell_type": "code",
   "execution_count": 61,
   "id": "b6914454",
   "metadata": {
    "execution": {
     "iopub.execute_input": "2025-03-19T01:09:38.971131Z",
     "iopub.status.busy": "2025-03-19T01:09:38.970697Z",
     "iopub.status.idle": "2025-03-19T01:09:38.980163Z",
     "shell.execute_reply": "2025-03-19T01:09:38.978993Z"
    },
    "papermill": {
     "duration": 0.043026,
     "end_time": "2025-03-19T01:09:38.982092",
     "exception": false,
     "start_time": "2025-03-19T01:09:38.939066",
     "status": "completed"
    },
    "tags": []
   },
   "outputs": [
    {
     "name": "stdout",
     "output_type": "stream",
     "text": [
      "tensor([[-0.5337, -0.1051],\n",
      "        [-0.5323, -0.1080],\n",
      "        [-0.5323, -0.1079],\n",
      "        [-0.5297, -0.1076],\n",
      "        [-0.5311, -0.1066],\n",
      "        [-0.5299, -0.1081]], grad_fn=<MmBackward0>)\n"
     ]
    }
   ],
   "source": [
    "# The author suggests to validate whether two methods are numerically correct. Therefore, produce\n",
    "# the same result, since the SelfAttention_v2 uses a linear layer and the SeflAttention_v1 builds\n",
    "# the weights manually, then we should transfer the weights from one to another.\n",
    "\n",
    "# Entering into details, the way to do that is by extracting the weights from each Linear layer and \n",
    "# transpose them to then make a copy into an instance of SelfAttention_v1.\n",
    "\n",
    "# By doing this, we can confirm that the output is the same, so the processes are numerically correct.\n",
    "\n",
    "with torch.no_grad(): # <- nn.Layer uses gradiant, to copy weights we need to tell torch not to copy the grads\n",
    "    sa_v1.W_query.copy_(sa_v2.W_query.weight.T.data)\n",
    "    sa_v1.W_value.copy_(sa_v2.W_value.weight.T.data)\n",
    "    sa_v1.W_key.copy_(sa_v2.W_key.weight.T.data)\n",
    "\n",
    "print(sa_v1(inputs))"
   ]
  },
  {
   "cell_type": "markdown",
   "id": "2e1671c2",
   "metadata": {
    "papermill": {
     "duration": 0.029214,
     "end_time": "2025-03-19T01:09:39.041047",
     "exception": false,
     "start_time": "2025-03-19T01:09:39.011833",
     "status": "completed"
    },
    "tags": []
   },
   "source": [
    "## Causal attention\n",
    "\n",
    "When training LLM, the desired outcome will require to consider only token that appear prior to the current position.\n",
    "\n",
    "Causal attention is also know as *masked attention*, it restricts a model to only consider previous and current inputs in a sequence when processing any given token when computing attention socres.\n",
    "\n",
    "The idea is to mask the attention weights above the diagonal and normalize the nonmasked attention weights such that the attention weights sum to 1 in each row."
   ]
  },
  {
   "cell_type": "code",
   "execution_count": 62,
   "id": "695f79a4",
   "metadata": {
    "execution": {
     "iopub.execute_input": "2025-03-19T01:09:39.101624Z",
     "iopub.status.busy": "2025-03-19T01:09:39.101253Z",
     "iopub.status.idle": "2025-03-19T01:09:39.109764Z",
     "shell.execute_reply": "2025-03-19T01:09:39.108499Z"
    },
    "papermill": {
     "duration": 0.041387,
     "end_time": "2025-03-19T01:09:39.111961",
     "exception": false,
     "start_time": "2025-03-19T01:09:39.070574",
     "status": "completed"
    },
    "tags": []
   },
   "outputs": [
    {
     "name": "stdout",
     "output_type": "stream",
     "text": [
      "tensor([[0.1717, 0.1762, 0.1761, 0.1555, 0.1627, 0.1579],\n",
      "        [0.1636, 0.1749, 0.1746, 0.1612, 0.1605, 0.1652],\n",
      "        [0.1637, 0.1749, 0.1746, 0.1611, 0.1606, 0.1651],\n",
      "        [0.1636, 0.1704, 0.1702, 0.1652, 0.1632, 0.1674],\n",
      "        [0.1667, 0.1722, 0.1721, 0.1618, 0.1633, 0.1639],\n",
      "        [0.1624, 0.1709, 0.1706, 0.1654, 0.1625, 0.1682]],\n",
      "       grad_fn=<SoftmaxBackward0>)\n"
     ]
    }
   ],
   "source": [
    "# Reusing the SelfAttention mechanism v2, calculate the attention scores of the input\n",
    "queries = sa_v2.W_query(inputs)\n",
    "keys = sa_v2.W_key(inputs)\n",
    "attn_scores = queries @ keys.T\n",
    "attn_weights = torch.softmax(attn_scores / keys.shape[-1]**0.5, dim=-1)\n",
    "print(attn_weights)"
   ]
  },
  {
   "cell_type": "code",
   "execution_count": 63,
   "id": "0cf2bf64",
   "metadata": {
    "execution": {
     "iopub.execute_input": "2025-03-19T01:09:39.173877Z",
     "iopub.status.busy": "2025-03-19T01:09:39.173479Z",
     "iopub.status.idle": "2025-03-19T01:09:39.184220Z",
     "shell.execute_reply": "2025-03-19T01:09:39.182521Z"
    },
    "papermill": {
     "duration": 0.044865,
     "end_time": "2025-03-19T01:09:39.186311",
     "exception": false,
     "start_time": "2025-03-19T01:09:39.141446",
     "status": "completed"
    },
    "tags": []
   },
   "outputs": [
    {
     "name": "stdout",
     "output_type": "stream",
     "text": [
      "tensor([[1., 0., 0., 0., 0., 0.],\n",
      "        [1., 1., 0., 0., 0., 0.],\n",
      "        [1., 1., 1., 0., 0., 0.],\n",
      "        [1., 1., 1., 1., 0., 0.],\n",
      "        [1., 1., 1., 1., 1., 0.],\n",
      "        [1., 1., 1., 1., 1., 1.]])\n"
     ]
    }
   ],
   "source": [
    "# Then create the hidding mask\n",
    "context_length = attn_scores.shape[0]\n",
    "mask_simple = torch.tril(torch.ones(context_length, context_length))\n",
    "print(mask_simple)"
   ]
  },
  {
   "cell_type": "code",
   "execution_count": 64,
   "id": "a4c6156c",
   "metadata": {
    "execution": {
     "iopub.execute_input": "2025-03-19T01:09:39.247519Z",
     "iopub.status.busy": "2025-03-19T01:09:39.247011Z",
     "iopub.status.idle": "2025-03-19T01:09:39.254072Z",
     "shell.execute_reply": "2025-03-19T01:09:39.252747Z"
    },
    "papermill": {
     "duration": 0.040233,
     "end_time": "2025-03-19T01:09:39.256246",
     "exception": false,
     "start_time": "2025-03-19T01:09:39.216013",
     "status": "completed"
    },
    "tags": []
   },
   "outputs": [
    {
     "name": "stdout",
     "output_type": "stream",
     "text": [
      "tensor([[0.1717, 0.0000, 0.0000, 0.0000, 0.0000, 0.0000],\n",
      "        [0.1636, 0.1749, 0.0000, 0.0000, 0.0000, 0.0000],\n",
      "        [0.1637, 0.1749, 0.1746, 0.0000, 0.0000, 0.0000],\n",
      "        [0.1636, 0.1704, 0.1702, 0.1652, 0.0000, 0.0000],\n",
      "        [0.1667, 0.1722, 0.1721, 0.1618, 0.1633, 0.0000],\n",
      "        [0.1624, 0.1709, 0.1706, 0.1654, 0.1625, 0.1682]],\n",
      "       grad_fn=<MulBackward0>)\n"
     ]
    }
   ],
   "source": [
    "# Apply the hidding mask to the actual attention weights to hide the weights above the diagonal\n",
    "masked_simple = attn_weights*mask_simple\n",
    "print(masked_simple)"
   ]
  },
  {
   "cell_type": "code",
   "execution_count": 65,
   "id": "6d7c540d",
   "metadata": {
    "execution": {
     "iopub.execute_input": "2025-03-19T01:09:39.321177Z",
     "iopub.status.busy": "2025-03-19T01:09:39.320761Z",
     "iopub.status.idle": "2025-03-19T01:09:39.328321Z",
     "shell.execute_reply": "2025-03-19T01:09:39.326946Z"
    },
    "papermill": {
     "duration": 0.041517,
     "end_time": "2025-03-19T01:09:39.330462",
     "exception": false,
     "start_time": "2025-03-19T01:09:39.288945",
     "status": "completed"
    },
    "tags": []
   },
   "outputs": [
    {
     "name": "stdout",
     "output_type": "stream",
     "text": [
      "tensor([[1.0000, 0.0000, 0.0000, 0.0000, 0.0000, 0.0000],\n",
      "        [0.4833, 0.5167, 0.0000, 0.0000, 0.0000, 0.0000],\n",
      "        [0.3190, 0.3408, 0.3402, 0.0000, 0.0000, 0.0000],\n",
      "        [0.2445, 0.2545, 0.2542, 0.2468, 0.0000, 0.0000],\n",
      "        [0.1994, 0.2060, 0.2058, 0.1935, 0.1953, 0.0000],\n",
      "        [0.1624, 0.1709, 0.1706, 0.1654, 0.1625, 0.1682]],\n",
      "       grad_fn=<DivBackward0>)\n"
     ]
    }
   ],
   "source": [
    "# Renormalize the attention weights to sum up to 1\n",
    "row_sums = masked_simple.sum(dim=-1, keepdim=True)\n",
    "masked_simple_norm = masked_simple / row_sums\n",
    "print(masked_simple_norm)"
   ]
  },
  {
   "attachments": {
    "46d61a0c-9048-450d-b473-4534a2765e76.png": {
     "image/png": "[encoded data removed]"
    }
   },
   "cell_type": "markdown",
   "id": "efb604f6",
   "metadata": {
    "papermill": {
     "duration": 0.030017,
     "end_time": "2025-03-19T01:09:39.390241",
     "exception": false,
     "start_time": "2025-03-19T01:09:39.360224",
     "status": "completed"
    },
    "tags": []
   },
   "source": [
    "> #### Information leakage\n",
    ">\n",
    "> It might appear that the information for future tokens (the ones that are hidden) could still influence the current token becuase their values are part of the softmax calculation.\n",
    ">\n",
    "> However, when renormalizing the attention weights after masking, weights are recalculated by softmax. The above diagonal doesn't contribute to the softmax score becuase its values are nullified.\n",
    ">\n",
    "> Masking and renormalizing the distribution of the attention weights is as if it was calculated only among the unmasked position to begin with.\n",
    "\n",
    "An efficient way to obtain the masked attention weight matrix, and the one that will be implemented in the next cells, is as follow:\n",
    "\n",
    "1. Attention scores (unnormalized)\n",
    "   - Mask with $-\\infty$ above diagonal\n",
    "2. Masked attention scores (unnormalized)\n",
    "   - Apply softmax\n",
    "3. Masked attention weights (normalized)\n",
    "\n",
    "#### Why using $-\\infty$ to mask instead of zero?\n",
    "\n",
    "Before answer the question, let's review the softmax formula\n",
    "\n",
    "$$\n",
    "softmax(z_i) = \\frac{e^{z_i}}{\\sum_je^{z_j}}\n",
    "$$\n",
    "\n",
    "When $z_j=0$ then $e^{z_j}=1$ becuase any number powered to zero will be 1. Therefore, all masked values by 0 will contribute to the softmax socre, to avoid any contribution by the above diagonal (i.e. the masked values) $z_j$ must be $-\\infty$.\n",
    "\n",
    "To prove that, we can plot $e^x$ where $x \\in [-3,3]$, being visible that $e$ decrease, tending to zero (also, if you calculate $\\lim_{x \\to -\\infty}e^x$ you will get that $e^x=0$. Meaning that all values masked with $-\\infty$ will not contribute to the softmax score.\n",
    "\n",
    "![image.png](attachment:46d61a0c-9048-450d-b473-4534a2765e76.png)"
   ]
  },
  {
   "cell_type": "code",
   "execution_count": 66,
   "id": "7b5292a9",
   "metadata": {
    "execution": {
     "iopub.execute_input": "2025-03-19T01:09:39.451687Z",
     "iopub.status.busy": "2025-03-19T01:09:39.451348Z",
     "iopub.status.idle": "2025-03-19T01:09:39.464120Z",
     "shell.execute_reply": "2025-03-19T01:09:39.462863Z"
    },
    "papermill": {
     "duration": 0.045294,
     "end_time": "2025-03-19T01:09:39.466097",
     "exception": false,
     "start_time": "2025-03-19T01:09:39.420803",
     "status": "completed"
    },
    "tags": []
   },
   "outputs": [
    {
     "name": "stdout",
     "output_type": "stream",
     "text": [
      "tensor([[0.3111,   -inf,   -inf,   -inf,   -inf,   -inf],\n",
      "        [0.1655, 0.2602,   -inf,   -inf,   -inf,   -inf],\n",
      "        [0.1667, 0.2602, 0.2577,   -inf,   -inf,   -inf],\n",
      "        [0.0510, 0.1080, 0.1064, 0.0643,   -inf,   -inf],\n",
      "        [0.1415, 0.1875, 0.1863, 0.0987, 0.1121,   -inf],\n",
      "        [0.0476, 0.1192, 0.1171, 0.0731, 0.0477, 0.0966]],\n",
      "       grad_fn=<MaskedFillBackward0>)\n"
     ]
    }
   ],
   "source": [
    "mask = torch.triu(torch.ones(context_length, context_length), diagonal=1)\n",
    "masked = attn_scores.masked_fill(mask.bool(), -torch.inf)\n",
    "print(masked)"
   ]
  },
  {
   "cell_type": "code",
   "execution_count": 67,
   "id": "19cdb761",
   "metadata": {
    "execution": {
     "iopub.execute_input": "2025-03-19T01:09:39.527541Z",
     "iopub.status.busy": "2025-03-19T01:09:39.527186Z",
     "iopub.status.idle": "2025-03-19T01:09:39.535040Z",
     "shell.execute_reply": "2025-03-19T01:09:39.533605Z"
    },
    "papermill": {
     "duration": 0.041296,
     "end_time": "2025-03-19T01:09:39.537223",
     "exception": false,
     "start_time": "2025-03-19T01:09:39.495927",
     "status": "completed"
    },
    "tags": []
   },
   "outputs": [
    {
     "name": "stdout",
     "output_type": "stream",
     "text": [
      "tensor([[1.0000, 0.0000, 0.0000, 0.0000, 0.0000, 0.0000],\n",
      "        [0.4833, 0.5167, 0.0000, 0.0000, 0.0000, 0.0000],\n",
      "        [0.3190, 0.3408, 0.3402, 0.0000, 0.0000, 0.0000],\n",
      "        [0.2445, 0.2545, 0.2542, 0.2468, 0.0000, 0.0000],\n",
      "        [0.1994, 0.2060, 0.2058, 0.1935, 0.1953, 0.0000],\n",
      "        [0.1624, 0.1709, 0.1706, 0.1654, 0.1625, 0.1682]],\n",
      "       grad_fn=<SoftmaxBackward0>)\n"
     ]
    }
   ],
   "source": [
    "# The output values sum to 1 in each row\n",
    "attn_weights = torch.softmax(masked / keys.shape[-1]**0.5, dim=1)\n",
    "print(attn_weights)"
   ]
  },
  {
   "cell_type": "markdown",
   "id": "c5fd83f9",
   "metadata": {
    "papermill": {
     "duration": 0.029686,
     "end_time": "2025-03-19T01:09:39.597125",
     "exception": false,
     "start_time": "2025-03-19T01:09:39.567439",
     "status": "completed"
    },
    "tags": []
   },
   "source": [
    "## Dropout\n",
    "\n",
    "During the LLM training it's necessary to use a deep learning technique called dropout, it consists on randomly selecting hiddel layer units and ignored them.\n",
    "\n",
    "This method helps prevent overfitting by ensuring that a model does not become overly reliant on any specific set of hidden layer units.\n",
    "\n",
    "This technique is used **ONLY** during training and is disabled afterward.\n",
    "\n",
    "The dropout can ocurr either after calculating the attention weights or after applying the attention weights to the value vectors. In this example, the dropout will take place after computing the attention weights.\n",
    "\n",
    "The dropout rate is goint to be of 50%, but when training the real model, the dropout rate will lower to 0.1 or 0.2.\n",
    "\n",
    "When applying dropout with a rate of 50%, half of the elements in the matrix are randomly set to zero. To compensate for the reduction, active elements scaled up their values by a factor of $1/0.5 = 2$. This scaling is crucial to maintain the overall balance of the attention weights."
   ]
  },
  {
   "cell_type": "code",
   "execution_count": 68,
   "id": "85f390a0",
   "metadata": {
    "execution": {
     "iopub.execute_input": "2025-03-19T01:09:39.660678Z",
     "iopub.status.busy": "2025-03-19T01:09:39.660326Z",
     "iopub.status.idle": "2025-03-19T01:09:39.684544Z",
     "shell.execute_reply": "2025-03-19T01:09:39.682830Z"
    },
    "papermill": {
     "duration": 0.059583,
     "end_time": "2025-03-19T01:09:39.686665",
     "exception": false,
     "start_time": "2025-03-19T01:09:39.627082",
     "status": "completed"
    },
    "tags": []
   },
   "outputs": [
    {
     "name": "stdout",
     "output_type": "stream",
     "text": [
      "tensor([[2., 2., 2., 2., 2., 2.],\n",
      "        [0., 2., 0., 0., 0., 0.],\n",
      "        [0., 0., 2., 0., 2., 0.],\n",
      "        [2., 2., 0., 0., 0., 2.],\n",
      "        [2., 0., 0., 0., 0., 2.],\n",
      "        [0., 2., 0., 0., 0., 0.]])\n"
     ]
    }
   ],
   "source": [
    "torch.manual_seed(123)\n",
    "dropout = torch.nn.Dropout(0.5)\n",
    "example = torch.ones(6, 6)\n",
    "print(dropout(example))"
   ]
  },
  {
   "cell_type": "code",
   "execution_count": 69,
   "id": "499b6390",
   "metadata": {
    "execution": {
     "iopub.execute_input": "2025-03-19T01:09:39.744991Z",
     "iopub.status.busy": "2025-03-19T01:09:39.744606Z",
     "iopub.status.idle": "2025-03-19T01:09:39.753766Z",
     "shell.execute_reply": "2025-03-19T01:09:39.752097Z"
    },
    "papermill": {
     "duration": 0.040306,
     "end_time": "2025-03-19T01:09:39.755787",
     "exception": false,
     "start_time": "2025-03-19T01:09:39.715481",
     "status": "completed"
    },
    "tags": []
   },
   "outputs": [
    {
     "name": "stdout",
     "output_type": "stream",
     "text": [
      "tensor([[2.0000, 0.0000, 0.0000, 0.0000, 0.0000, 0.0000],\n",
      "        [0.0000, 1.0335, 0.0000, 0.0000, 0.0000, 0.0000],\n",
      "        [0.0000, 0.0000, 0.6804, 0.0000, 0.0000, 0.0000],\n",
      "        [0.4889, 0.5090, 0.0000, 0.0000, 0.0000, 0.0000],\n",
      "        [0.3988, 0.0000, 0.0000, 0.0000, 0.0000, 0.0000],\n",
      "        [0.0000, 0.3418, 0.0000, 0.0000, 0.0000, 0.0000]],\n",
      "       grad_fn=<MulBackward0>)\n"
     ]
    }
   ],
   "source": [
    "torch.manual_seed(123)\n",
    "print(dropout(attn_weights))"
   ]
  },
  {
   "cell_type": "code",
   "execution_count": 70,
   "id": "c9e8103e",
   "metadata": {
    "execution": {
     "iopub.execute_input": "2025-03-19T01:09:39.818224Z",
     "iopub.status.busy": "2025-03-19T01:09:39.817842Z",
     "iopub.status.idle": "2025-03-19T01:09:39.825715Z",
     "shell.execute_reply": "2025-03-19T01:09:39.824391Z"
    },
    "papermill": {
     "duration": 0.041993,
     "end_time": "2025-03-19T01:09:39.827732",
     "exception": false,
     "start_time": "2025-03-19T01:09:39.785739",
     "status": "completed"
    },
    "tags": []
   },
   "outputs": [],
   "source": [
    "# Causal attention mechanism implementation\n",
    "class CausalAttention(nn.Module):\n",
    "    def __init__(self, d_in, d_out, context_length, dropout, qkv_bias=False):\n",
    "        super().__init__()\n",
    "        self.d_out = d_out\n",
    "        self.W_query = nn.Linear(d_in, d_out, bias=qkv_bias)\n",
    "        self.W_key = nn.Linear(d_in, d_out, bias=qkv_bias)\n",
    "        self.W_value = nn.Linear(d_in, d_out, bias=qkv_bias)\n",
    "        \n",
    "        self.dropout = nn.Dropout(dropout) # Adding dropout layer\n",
    "        self.register_buffer(\n",
    "            'mask',\n",
    "            torch.triu(torch.ones(context_length, context_length), diagonal=1)\n",
    "        ) # Ensures this tensor is allocated in the same device as the rest of the LLM\n",
    "\n",
    "    def forward(self, x):\n",
    "        b, num_tokens, d_in = x.shape # Keeps batch dimension at the first position (0)\n",
    "        keys = self.W_key(x)\n",
    "        queries = self.W_query(x)\n",
    "        values = self.W_value(x)\n",
    "\n",
    "        attn_scores = queries @ keys.transpose(1,2)\n",
    "        # The masked_fill operation occurrs in memory\n",
    "        # this happens to all operations with an underscore\n",
    "        attn_scores.masked_fill_(self.mask.bool()[:num_tokens, :num_tokens], -torch.inf)\n",
    "\n",
    "        attn_weights = torch.softmax(attn_scores / keys.shape[-1]**0.5, dim=-1)\n",
    "        attn_weights = self.dropout(attn_weights)\n",
    "\n",
    "        context_vec = attn_weights @ values\n",
    "        return context_vec"
   ]
  },
  {
   "cell_type": "code",
   "execution_count": 71,
   "id": "c2153026",
   "metadata": {
    "execution": {
     "iopub.execute_input": "2025-03-19T01:09:39.887108Z",
     "iopub.status.busy": "2025-03-19T01:09:39.886722Z",
     "iopub.status.idle": "2025-03-19T01:09:39.893331Z",
     "shell.execute_reply": "2025-03-19T01:09:39.892003Z"
    },
    "papermill": {
     "duration": 0.038807,
     "end_time": "2025-03-19T01:09:39.895355",
     "exception": false,
     "start_time": "2025-03-19T01:09:39.856548",
     "status": "completed"
    },
    "tags": []
   },
   "outputs": [
    {
     "name": "stdout",
     "output_type": "stream",
     "text": [
      "torch.Size([2, 6, 3])\n"
     ]
    }
   ],
   "source": [
    "batch = torch.stack((inputs, inputs), dim=0)\n",
    "print(batch.shape)"
   ]
  },
  {
   "cell_type": "code",
   "execution_count": 72,
   "id": "53158391",
   "metadata": {
    "execution": {
     "iopub.execute_input": "2025-03-19T01:09:39.956649Z",
     "iopub.status.busy": "2025-03-19T01:09:39.956286Z",
     "iopub.status.idle": "2025-03-19T01:09:39.968987Z",
     "shell.execute_reply": "2025-03-19T01:09:39.967632Z"
    },
    "papermill": {
     "duration": 0.044735,
     "end_time": "2025-03-19T01:09:39.970994",
     "exception": false,
     "start_time": "2025-03-19T01:09:39.926259",
     "status": "completed"
    },
    "tags": []
   },
   "outputs": [
    {
     "name": "stdout",
     "output_type": "stream",
     "text": [
      "context_vecs.shape: torch.Size([2, 6, 2])\n"
     ]
    }
   ],
   "source": [
    "torch.manual_seed(123)\n",
    "context_length = batch.shape[1]\n",
    "ca = CausalAttention(d_in, d_out, context_length, 0.0)\n",
    "context_vecs = ca(batch)\n",
    "print(\"context_vecs.shape:\", context_vecs.shape)"
   ]
  },
  {
   "cell_type": "markdown",
   "id": "d1ac67b4",
   "metadata": {
    "papermill": {
     "duration": 0.041689,
     "end_time": "2025-03-19T01:09:40.048213",
     "exception": false,
     "start_time": "2025-03-19T01:09:40.006524",
     "status": "completed"
    },
    "tags": []
   },
   "source": [
    "## Multi-head attention\n",
    "\n",
    "The final step for attention mechanisms is to extend the causal attention class over multiple heads. This is called *multi-head attention*.\n",
    "\n",
    "The term *\"multi-head\"* refers to dividing the attention mechanism into multiple *\"heads\"*, each operating independently.\n",
    "\n",
    "To tackle this expansing, the first steps is intuitively build a multi-head attention module by stacking multiple CausalAttention modules.\n",
    "\n",
    "The wrapper consists on having multiple instance of the CausalAttention class and then combine their outputs.\n",
    "\n",
    "However, the `MultiHeadAttentionWrapper` works sequentially becuase of the `for` loop, also being computational inneficient. One way to be more efficient is by computing the output for all attention heads simultaneously via matrix multiplication."
   ]
  },
  {
   "cell_type": "code",
   "execution_count": 73,
   "id": "7753a19c",
   "metadata": {
    "execution": {
     "iopub.execute_input": "2025-03-19T01:09:40.111817Z",
     "iopub.status.busy": "2025-03-19T01:09:40.111397Z",
     "iopub.status.idle": "2025-03-19T01:09:40.118730Z",
     "shell.execute_reply": "2025-03-19T01:09:40.117191Z"
    },
    "papermill": {
     "duration": 0.041366,
     "end_time": "2025-03-19T01:09:40.120834",
     "exception": false,
     "start_time": "2025-03-19T01:09:40.079468",
     "status": "completed"
    },
    "tags": []
   },
   "outputs": [],
   "source": [
    "class MultiHeadAttentionWrapper(nn.Module):\n",
    "    def __init__(self, d_in, d_out, context_length, dropout, num_heads, qkv_bias=False):\n",
    "        super().__init__()\n",
    "        self.heads = nn.ModuleList(\n",
    "            [CausalAttention(\n",
    "                d_in, d_out, context_length, dropout, qkv_bias\n",
    "             ) \n",
    "             for _ in range(num_heads)]\n",
    "        )\n",
    "\n",
    "    def forward(self, x):\n",
    "        return torch.cat([head(x) for head in self.heads], dim=-1)"
   ]
  },
  {
   "cell_type": "code",
   "execution_count": 74,
   "id": "1031ab99",
   "metadata": {
    "execution": {
     "iopub.execute_input": "2025-03-19T01:09:40.185807Z",
     "iopub.status.busy": "2025-03-19T01:09:40.185407Z",
     "iopub.status.idle": "2025-03-19T01:09:40.202163Z",
     "shell.execute_reply": "2025-03-19T01:09:40.200747Z"
    },
    "papermill": {
     "duration": 0.051637,
     "end_time": "2025-03-19T01:09:40.204338",
     "exception": false,
     "start_time": "2025-03-19T01:09:40.152701",
     "status": "completed"
    },
    "tags": []
   },
   "outputs": [
    {
     "name": "stdout",
     "output_type": "stream",
     "text": [
      "tensor([[[-0.4519,  0.2216,  0.4772,  0.1063],\n",
      "         [-0.5874,  0.0058,  0.5891,  0.3257],\n",
      "         [-0.6300, -0.0632,  0.6202,  0.3860],\n",
      "         [-0.5675, -0.0843,  0.5478,  0.3589],\n",
      "         [-0.5526, -0.0981,  0.5321,  0.3428],\n",
      "         [-0.5299, -0.1081,  0.5077,  0.3493]],\n",
      "\n",
      "        [[-0.4519,  0.2216,  0.4772,  0.1063],\n",
      "         [-0.5874,  0.0058,  0.5891,  0.3257],\n",
      "         [-0.6300, -0.0632,  0.6202,  0.3860],\n",
      "         [-0.5675, -0.0843,  0.5478,  0.3589],\n",
      "         [-0.5526, -0.0981,  0.5321,  0.3428],\n",
      "         [-0.5299, -0.1081,  0.5077,  0.3493]]], grad_fn=<CatBackward0>)\n",
      "context_vecs.shape: torch.Size([2, 6, 4])\n"
     ]
    }
   ],
   "source": [
    "torch.manual_seed(123)\n",
    "context_length = batch.shape[1] # Number of tokens\n",
    "d_in, d_out = 3, 2\n",
    "mha = MultiHeadAttentionWrapper(\n",
    "    d_in, d_out, context_length, 0.0, num_heads=2\n",
    ")\n",
    "context_vecs = mha(batch)\n",
    "\n",
    "print(context_vecs)\n",
    "print(\"context_vecs.shape:\", context_vecs.shape)"
   ]
  },
  {
   "cell_type": "code",
   "execution_count": 75,
   "id": "ebbe9be4",
   "metadata": {
    "execution": {
     "iopub.execute_input": "2025-03-19T01:09:40.278255Z",
     "iopub.status.busy": "2025-03-19T01:09:40.277812Z",
     "iopub.status.idle": "2025-03-19T01:09:40.291071Z",
     "shell.execute_reply": "2025-03-19T01:09:40.289200Z"
    },
    "papermill": {
     "duration": 0.048763,
     "end_time": "2025-03-19T01:09:40.293559",
     "exception": false,
     "start_time": "2025-03-19T01:09:40.244796",
     "status": "completed"
    },
    "tags": []
   },
   "outputs": [
    {
     "name": "stdout",
     "output_type": "stream",
     "text": [
      "context_vecs.shape: torch.Size([2, 6, 2])\n"
     ]
    }
   ],
   "source": [
    "# The author suggets the following exercise. Changing the input arguments for the \n",
    "# MultiHeadAttentionWrapper, so the output context vectos are two-dimensional instead \n",
    "# of four dimensional\n",
    "\n",
    "# To achieve the desire result, I change the d_out variable since the last dimension (2) is the result\n",
    "# of multiplying d_out by num_heads.\n",
    "\n",
    "# Said this, one can get the same result by modifying num_heads to 1\n",
    "\n",
    "torch.manual_seed(123)\n",
    "context_length = batch.shape[1] # Number of tokens\n",
    "d_in, d_out = 3, 1\n",
    "mha = MultiHeadAttentionWrapper(\n",
    "    d_in, d_out, context_length, 0.0, num_heads=2\n",
    ")\n",
    "context_vecs = mha(batch)\n",
    "\n",
    "print(\"context_vecs.shape:\", context_vecs.shape)"
   ]
  },
  {
   "cell_type": "code",
   "execution_count": 76,
   "id": "1b77a456",
   "metadata": {
    "execution": {
     "iopub.execute_input": "2025-03-19T01:09:40.358748Z",
     "iopub.status.busy": "2025-03-19T01:09:40.358269Z",
     "iopub.status.idle": "2025-03-19T01:09:40.373584Z",
     "shell.execute_reply": "2025-03-19T01:09:40.372154Z"
    },
    "papermill": {
     "duration": 0.050759,
     "end_time": "2025-03-19T01:09:40.375769",
     "exception": false,
     "start_time": "2025-03-19T01:09:40.325010",
     "status": "completed"
    },
    "tags": []
   },
   "outputs": [],
   "source": [
    "# Causal attention mechanism implementation based on matrix multiplication\n",
    "\n",
    "class MultiHeadAttention(nn.Module):\n",
    "    def __init__(self, d_in, d_out, context_length, dropout, num_heads, qkv_bias=False):\n",
    "        super().__init__()\n",
    "        assert (d_out % num_heads == 0), \"d_out must be divisible by num_heads\"\n",
    "        self.d_out = d_out\n",
    "        self.num_heads = num_heads\n",
    "        self.head_dim = d_out // num_heads # Reduces projection dim to match the desired output dim\n",
    "        \n",
    "        self.W_query = nn.Linear(d_in, d_out, bias=qkv_bias)\n",
    "        self.W_key = nn.Linear(d_in, d_out, bias=qkv_bias)\n",
    "        self.W_value = nn.Linear(d_in, d_out, bias=qkv_bias)\n",
    "        \n",
    "        self.out_proj = nn.Linear(d_out, d_out) # Used to combine heads output\n",
    "        self.dropout = nn.Dropout(dropout)\n",
    "        self.register_buffer(\n",
    "            'mask',\n",
    "            torch.triu(torch.ones(context_length, context_length), diagonal=1)\n",
    "        )\n",
    "\n",
    "    def forward(self, x):\n",
    "        b, num_tokens, d_in = x.shape\n",
    "        \n",
    "        keys = self.W_key(x) # Tensor shape (b, num_tokens, d_out)\n",
    "        queries = self.W_query(x) # Tensor shape (b, num_tokens, d_out)\n",
    "        values = self.W_value(x) # Tensor shape (b, num_tokens, d_out)\n",
    "\n",
    "        # Implicitly split the matrix by adding a num_head dimension\n",
    "        keys = keys.view(b, num_tokens, self.num_heads, self.head_dim)\n",
    "        values = values.view(b, num_tokens, self.num_heads, self.head_dim)\n",
    "        queries = queries.view(b, num_tokens, self.num_heads, self.head_dim)\n",
    "\n",
    "        # Transpose from shape (b, num_tokens, num_heads, head_dim) to\n",
    "        # (b, num_heads, num_tokens, head_dim)\n",
    "        keys = keys.transpose(1, 2)\n",
    "        queries = queries.transpose(1, 2)\n",
    "        values = values.transpose(1, 2)\n",
    "\n",
    "        attn_scores = queries @ keys.transpose(2, 3) # Dot product for each head\n",
    "        # Mask truncated to the number of tokens\n",
    "        mask_bool = self.mask.bool()[:num_tokens, :num_tokens]\n",
    "        # Uses the mask to fill attention scores\n",
    "        attn_scores.masked_fill_(mask_bool, -torch.inf)\n",
    "\n",
    "        attn_weights = torch.softmax(attn_scores / keys.shape[-1]**0.5, dim=-1)\n",
    "        attn_weights = self.dropout(attn_weights)\n",
    "\n",
    "        # Tensor shape: (b, num_tokens, n_heads, head_dim)\n",
    "        # Combine heads, where self.d_out = self.num_heads*self.head_dim\n",
    "        context_vec = (attn_weights @ values).transpose(1, 2)\n",
    "        context_vec = context_vec.contiguous().view(b, num_tokens, self.d_out)\n",
    "        context_vec = self.out_proj(context_vec) # Adds an optional linear projection\n",
    "        return context_vec"
   ]
  },
  {
   "cell_type": "code",
   "execution_count": 77,
   "id": "f3dd67aa",
   "metadata": {
    "execution": {
     "iopub.execute_input": "2025-03-19T01:09:40.448809Z",
     "iopub.status.busy": "2025-03-19T01:09:40.448293Z",
     "iopub.status.idle": "2025-03-19T01:09:40.460597Z",
     "shell.execute_reply": "2025-03-19T01:09:40.459551Z"
    },
    "papermill": {
     "duration": 0.053333,
     "end_time": "2025-03-19T01:09:40.463017",
     "exception": false,
     "start_time": "2025-03-19T01:09:40.409684",
     "status": "completed"
    },
    "tags": []
   },
   "outputs": [
    {
     "name": "stdout",
     "output_type": "stream",
     "text": [
      "tensor([[[0.3190, 0.4858],\n",
      "         [0.2943, 0.3897],\n",
      "         [0.2856, 0.3593],\n",
      "         [0.2693, 0.3873],\n",
      "         [0.2639, 0.3928],\n",
      "         [0.2575, 0.4028]],\n",
      "\n",
      "        [[0.3190, 0.4858],\n",
      "         [0.2943, 0.3897],\n",
      "         [0.2856, 0.3593],\n",
      "         [0.2693, 0.3873],\n",
      "         [0.2639, 0.3928],\n",
      "         [0.2575, 0.4028]]], grad_fn=<ViewBackward0>)\n",
      "context_vecs.shape: torch.Size([2, 6, 2])\n"
     ]
    }
   ],
   "source": [
    "torch.manual_seed(123)\n",
    "batch_size, context_length, d_in = batch.shape\n",
    "d_out = 2\n",
    "mha = MultiHeadAttention(d_in, d_out, context_length, 0.0, num_heads=2)\n",
    "context_vecs = mha(batch)\n",
    "print(context_vecs)\n",
    "print(\"context_vecs.shape:\", context_vecs.shape)"
   ]
  },
  {
   "cell_type": "code",
   "execution_count": 78,
   "id": "b875373a",
   "metadata": {
    "execution": {
     "iopub.execute_input": "2025-03-19T01:09:40.539095Z",
     "iopub.status.busy": "2025-03-19T01:09:40.538670Z",
     "iopub.status.idle": "2025-03-19T01:09:40.583009Z",
     "shell.execute_reply": "2025-03-19T01:09:40.581694Z"
    },
    "papermill": {
     "duration": 0.091499,
     "end_time": "2025-03-19T01:09:40.585392",
     "exception": false,
     "start_time": "2025-03-19T01:09:40.493893",
     "status": "completed"
    },
    "tags": []
   },
   "outputs": [],
   "source": [
    "# The author propose the following exercise. Initialize a multi-head attention module \n",
    "# that has the same number of attention heads as the smallest GPT-2 model \n",
    "# (12 attention heads, output embedding sizes of 768 dimensions, and context length of 1,024 tokens)\n",
    "\n",
    "d_in = 768\n",
    "d_out = 768\n",
    "num_heads = 12\n",
    "context_length = 1_024\n",
    "mha = MultiHeadAttention(d_in, d_out, context_length, 0.0, num_heads=num_heads)"
   ]
  }
 ],
 "metadata": {
  "kaggle": {
   "accelerator": "none",
   "dataSources": [],
   "dockerImageVersionId": 30918,
   "isGpuEnabled": false,
   "isInternetEnabled": true,
   "language": "python",
   "sourceType": "notebook"
  },
  "kernelspec": {
   "display_name": "Python 3",
   "language": "python",
   "name": "python3"
  },
  "language_info": {
   "codemirror_mode": {
    "name": "ipython",
    "version": 3
   },
   "file_extension": ".py",
   "mimetype": "text/x-python",
   "name": "python",
   "nbconvert_exporter": "python",
   "pygments_lexer": "ipython3",
   "version": "3.10.12"
  },
  "papermill": {
   "default_parameters": {},
   "duration": 18.358329,
   "end_time": "2025-03-19T01:09:42.347493",
   "environment_variables": {},
   "exception": null,
   "input_path": "__notebook__.ipynb",
   "output_path": "__notebook__.ipynb",
   "parameters": {},
   "start_time": "2025-03-19T01:09:23.989164",
   "version": "2.6.0"
  }
 },
 "nbformat": 4,
 "nbformat_minor": 5
}
